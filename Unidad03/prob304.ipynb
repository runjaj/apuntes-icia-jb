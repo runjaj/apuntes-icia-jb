{
 "cells": [
  {
   "cell_type": "markdown",
   "id": "streaming-liquid",
   "metadata": {},
   "source": [
    "# Problema 3.04\n",
    "\n",
    "La respuesta a un escalón unidad de un sistema viene dada por:\n",
    "\n",
    "$$y (t) = 1 - \\frac{7}{3} \\mathrm{e}^{- t} + \\frac{3}{2} \\mathrm{e}^{- 2 t} -\n",
    "     \\frac{1}{6} \\mathrm{e}^{- 4 t}$$\n",
    "\n",
    "1.  ¿Cuál es la función de transferencia de dicho sistema?\n",
    "\n",
    "2.  ¿Cuál sería la respuesta en tiempo real si la entrada fuera un\n",
    "    impulso unidad?\n",
    "\n",
    "----\n",
    "\n",
    "**Solución**\n",
    "\n",
    "a\\) Debemos encontrar aquella función de transferencia *G(s)* que para\n",
    "una entrada de tipo escalón unidad ($x (s) = \\frac{1}{s}$) produzca una\n",
    "respuesta como la del enunciado del problema. La transformada de Laplace\n",
    "de *y(t)* es *y(s)*:\n",
    "\n",
    "Por tanto la función de transferencia buscada será:\n",
    "\n",
    "$$G (s) = \\frac{y (s)}{x (s)}$$ \n",
    "\n",
    "Para poder encontrar la función de\n",
    "transferencia hay que hacer la transformada de Laplace a la función\n",
    "*y(t)*:\n",
    "\n",
    "$$y (s) =\\mathcal{L} [y (t)] = \\frac{1}{s} - \\frac{\\frac{7}{3}}{s + 1} +\n",
    "   \\frac{\\frac{3}{2}}{s + 2} - \\frac{\\frac{1}{6}}{s + 4} = \\frac{s + 8}{s (s +\n",
    "   1)  (s + 2)  (s + 4)}$$ \n",
    "   \n",
    "   Por tanto,\n",
    "   \n",
    "   \n",
    "$$G (s) = \\frac{s + 8}{(s + 1)  (s + 2)  (s + 4)}$$ \n",
    "\n",
    "b) La función\n",
    "impulso es la derivada de la función escalón. Por tanto, la respuesta en\n",
    "tiempo real a una entrada en impulso no será más que derivar *y(t)*\n",
    "respecto al tiempo:\n",
    "\n",
    "\n",
    "$$[y (t)]_{\\mathrm{impulso}} = \\frac{\\mathrm{d}}{\\mathrm{d}t} [y (t)]_{\\mathrm{escalón}} = \\frac{7}{3} \\mathrm{e}^{- t} - 3 \\mathrm{e}^{- 2 t} +\n",
    "   \\frac{2}{3} \\mathrm{e}^{- 4 t}$$"
   ]
  }
 ],
 "metadata": {
  "kernelspec": {
   "display_name": "Python 3",
   "language": "python",
   "name": "python3"
  },
  "language_info": {
   "codemirror_mode": {
    "name": "ipython",
    "version": 3
   },
   "file_extension": ".py",
   "mimetype": "text/x-python",
   "name": "python",
   "nbconvert_exporter": "python",
   "pygments_lexer": "ipython3",
   "version": "3.8.5"
  }
 },
 "nbformat": 4,
 "nbformat_minor": 5
}
