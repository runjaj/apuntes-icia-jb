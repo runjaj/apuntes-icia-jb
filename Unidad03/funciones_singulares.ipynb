{
 "cells": [
  {
   "cell_type": "markdown",
   "id": "liable-duplicate",
   "metadata": {},
   "source": [
    "# Transformadas de algunas funciones singulares\n",
    "\n",
    "A continuación se muestran las transformadas de algunas funciones con\n",
    "las que se trabajará frecuentemente más adelante ya que pueden ser\n",
    "asimiladas como las perturbaciones más frecuentes.\n",
    "\n",
    "Si no se dice lo contrario todas estas funciones se definen para que su\n",
    "valor sea nulo a tiempo menor que cero.\n",
    "\n",
    "## Función escalón\n",
    "\n",
    "Es una función cuyo valor para tiempos menores que cero es nulo y que\n",
    "alcanza el valor $M$ para tiempo mayores que 0:\n",
    "\n",
    "```{figure} ./img/0.png\n",
    "---\n",
    "figclass: margin\n",
    "align: left\n",
    "---\n",
    "Función escalón de altura $M$.\n",
    "\n",
    "Se puede modificar el valor de $M$ utilizando el deslizador (solo cuando se visualiza el *notebook*).\n",
    "```"
   ]
  },
  {
   "cell_type": "code",
   "execution_count": 10,
   "id": "instrumental-recipe",
   "metadata": {
    "scrolled": true,
    "tags": [
     "hide-input",
     "interactive"
    ]
   },
   "outputs": [
    {
     "data": {
      "application/vnd.jupyter.widget-view+json": {
       "model_id": "737d470fd70c464eb1a590269a63ef95",
       "version_major": 2,
       "version_minor": 0
      },
      "text/plain": [
       "interactive(children=(FloatSlider(value=1.0, description='M', max=5.0, min=-3.0, step=0.5), Output()), _dom_cl…"
      ]
     },
     "metadata": {},
     "output_type": "display_data"
    }
   ],
   "source": [
    "from ipywidgets import interact\n",
    "\n",
    "from sympy import Heaviside, plot, Symbol\n",
    "\n",
    "t = Symbol('t')\n",
    "\n",
    "def f(M):\n",
    "    plot(M*Heaviside(t), (t, -1,5), line_color='red')\n",
    "\n",
    "interact(f, M=(-3, 5, 0.5), continuous_update=False);"
   ]
  },
  {
   "cell_type": "markdown",
   "id": "peaceful-maintenance",
   "metadata": {},
   "source": [
    "Esta función se define como:\n",
    "\n",
    "$$f (t) = \\left\\{\\begin{array}{ll}\n",
    "     0 & t < 0\\\\\n",
    "     M & t > 0\n",
    "   \\end{array}\\right.$$\n",
    "\n",
    "La transformada de Laplace de esta función es:\n",
    "\n",
    "$$\\mathcal{L} [f (t)] = \\frac{M}{s}$$\n",
    "\n",
    "Si $M$ es igual a 1 se habla de la función escalón unidad, $U(t)$, o de la función de Heaviside, $\\theta(t)$.\n",
    "\n",
    "Encontrar la transformada inversa de Laplace es muy sencillo utilizando *Sympy*:"
   ]
  },
  {
   "cell_type": "code",
   "execution_count": 47,
   "id": "exempt-saturn",
   "metadata": {},
   "outputs": [
    {
     "data": {
      "text/latex": [
       "$\\displaystyle \\frac{M}{s}$"
      ],
      "text/plain": [
       "M/s"
      ]
     },
     "execution_count": 47,
     "metadata": {},
     "output_type": "execute_result"
    }
   ],
   "source": [
    "# Cargamos las funciones necesarias para el ejemplo\n",
    "from sympy import Heaviside, laplace_transform, symbols\n",
    "\n",
    "# Definición de las variables que vamos a utilizar\n",
    "M, t, s = symbols('M t s')\n",
    "\n",
    "# Definimos un escalón unidad de altura M\n",
    "f = M*Heaviside(t)\n",
    "\n",
    "# Calculamos la trasnformada inversa de Laplace\n",
    "laplace_transform(f, t, s, noconds=True)"
   ]
  },
  {
   "cell_type": "markdown",
   "id": "presidential-appointment",
   "metadata": {},
   "source": [
    "En el cálculo anterior, se ha utilizado la función de ```Heaviside``` como función escalón unidad. También se puede realizar el cálculo definiendo la función escalón como una constante $M$ y asumiendo de manera implicita que ese valor es solo para $t > 0$:"
   ]
  },
  {
   "cell_type": "code",
   "execution_count": 48,
   "id": "experimental-manner",
   "metadata": {},
   "outputs": [
    {
     "data": {
      "text/latex": [
       "$\\displaystyle \\frac{M}{s}$"
      ],
      "text/plain": [
       "M/s"
      ]
     },
     "execution_count": 48,
     "metadata": {},
     "output_type": "execute_result"
    }
   ],
   "source": [
    "# Cargamos las funciones necesarias para el ejemplo\n",
    "from sympy import Heaviside, symbols\n",
    "\n",
    "# Definición de las variables que vamos a utilizar\n",
    "M, t, s = symbols('M t s')\n",
    "\n",
    "# Definimos un escalón unidad de altura M\n",
    "f = M\n",
    "\n",
    "# Calculamos la trasnformada inversa de Laplace\n",
    "laplace_transform(f, t, s, noconds=True)"
   ]
  },
  {
   "cell_type": "markdown",
   "id": "under-disposition",
   "metadata": {},
   "source": [
    "Aunque la mayor parte de las veces las funciones de entrada sucende a tiempo 0, no es raro que aparezcan desplazadas en el tiempo, que sufran un retraso $t_0$.\n",
    "\n",
    "```{figure} ./img/0.png\n",
    "---\n",
    "figclass: margin\n",
    "align: left\n",
    "---\n",
    "Función pulso unidad retrasada en el tiempo un valor $t_0$.\n",
    "\n",
    "Se puede modificar el valor del retraso utilizando el deslizador.\n",
    "```"
   ]
  },
  {
   "cell_type": "code",
   "execution_count": 1,
   "id": "modified-filing",
   "metadata": {
    "tags": [
     "hide-input",
     "interactive"
    ]
   },
   "outputs": [
    {
     "data": {
      "application/vnd.jupyter.widget-view+json": {
       "model_id": "dd4ce021f28d40bd95bc7f9e1e218976",
       "version_major": 2,
       "version_minor": 0
      },
      "text/plain": [
       "FloatSlider(value=0.0, continuous_update=False, description='$t_0$', max=5.0, step=0.2)"
      ]
     },
     "metadata": {},
     "output_type": "display_data"
    },
    {
     "data": {
      "application/vnd.jupyter.widget-view+json": {
       "model_id": "8cb771fc451e4211bfba7556f11381b8",
       "version_major": 2,
       "version_minor": 0
      },
      "text/plain": [
       "Output()"
      ]
     },
     "metadata": {},
     "output_type": "display_data"
    }
   ],
   "source": [
    "from ipywidgets import FloatSlider, interactive_output\n",
    "\n",
    "from sympy import Heaviside, plot, Symbol\n",
    "\n",
    "t = Symbol('t')\n",
    "\n",
    "to = FloatSlider(value=0, min=0, max=5, step=.2, description=r\"$t_0$\", continuous_update=False)\n",
    "\n",
    "def f(to):\n",
    "    plot(Heaviside(t-to), (t, -1,5), line_color='red')\n",
    "\n",
    "display(to)\n",
    "interactive_output(f, {'to':to})"
   ]
  },
  {
   "cell_type": "markdown",
   "id": "environmental-zambia",
   "metadata": {},
   "source": [
    "En el caso de que la función tenga un retraso $t_0$:\n",
    "\n",
    "$$f (t) = \\left\\{\\begin{array}{ll}\n",
    "     0 & t < t_0\\\\\n",
    "     M & t > t_0\n",
    "   \\end{array}\\right.$$\n",
    "\n",
    "O lo que es lo mismo:\n",
    "\n",
    "$$f (t - t_0) = \\left\\{\\begin{array}{ll}\n",
    "     0 & t < 0\\\\\n",
    "     M & t > 0\n",
    "   \\end{array}\\right.$$\n",
    "\n",
    "Por tanto, aplicando la propiedad de la transformada de Laplace, [translación de la transformada](transformada) (ecuación {eq}`translacion`), la transformada de Laplace será:\n",
    "\n",
    "$$\\mathcal{L} [f (t - t_0)] = \\frac{M}{s} \\mathrm{e}^{- s t_0}$$\n",
    "\n",
    "## Función pulso\n",
    "\n",
    "Se trata de una función pulso con área $A = M t_0$. A continuación, en la figura de la derecha se muestra un pulso de altura unidad, $M=1$. El pulso (línea roja) es la suma de un pulso unidad (línea verde) al que se le suma un pulso de altura -1 retrasado un tiempo igual a la anchura del pulso, es decir, $t_0$:\n",
    "\n",
    "```{figure} ./img/0.png\n",
    "---\n",
    "figclass: margin\n",
    "align: left\n",
    "---\n",
    "Un pulso, figura de la derecha, es la resta de dos funciones escalón de igual altura. El escalón negativo (azul) anula al escalón verde y forma el pulso.\n",
    "\n",
    "Se puede modificar la anchura del pulso $t_0$ utilizando el deslizador (solo cuando se visualiza el *notebook*).\n",
    "```"
   ]
  },
  {
   "cell_type": "code",
   "execution_count": 36,
   "id": "comprehensive-durham",
   "metadata": {
    "tags": [
     "hide-input",
     "interactive"
    ]
   },
   "outputs": [
    {
     "data": {
      "application/vnd.jupyter.widget-view+json": {
       "model_id": "d1130cbd547a41649436b9ea151fe54e",
       "version_major": 2,
       "version_minor": 0
      },
      "text/plain": [
       "interactive(children=(FloatSlider(value=2.0, description='to', max=5.0, step=0.5), Output()), _dom_classes=('w…"
      ]
     },
     "metadata": {},
     "output_type": "display_data"
    }
   ],
   "source": [
    "from ipywidgets import interact\n",
    "\n",
    "from sympy import Heaviside, plot, Symbol\n",
    "from sympy.plotting import PlotGrid\n",
    "\n",
    "t = Symbol('t')\n",
    "\n",
    "def f(to):\n",
    "    p1 = plot(Heaviside(t), -Heaviside(t-to), (t, -1,6), show=False)\n",
    "    p2 = plot(Heaviside(t)-Heaviside(t-to), (t, -1,6), line_color = 'red', show=False)\n",
    "    p1[0].line_color = 'green'\n",
    "    p1[1].line_color = 'blue'\n",
    "    PlotGrid(1, 2 , p1, p2, size=[12,4]);\n",
    "    \n",
    "interact(f, to=(0, 5, 0.5), continuous_update=False);"
   ]
  },
  {
   "cell_type": "markdown",
   "id": "second-directive",
   "metadata": {},
   "source": [
    "La función pulso se define como:\n",
    "\n",
    "$$f (t) = \\left\\{\\begin{array}{cc}\n",
    "     0 & t < 0\\\\\n",
    "     M & 0 < t < t_0\\\\\n",
    "     0 & t > t_0\n",
    "   \\end{array}\\right.$$\n",
    "\n",
    "Utilizando la definición del escalón unidad también se puede escribir\n",
    "como:\n",
    "\n",
    "$$f (t) = M [U (t) - U (t - t_0)]$$\n",
    "\n",
    "Por tanto, la transformada de Laplace será:\n",
    "\n",
    "$$\\mathcal{L} [f (t)] = \\bar{f} (s) = M \\left( \\frac{1}{s} - \\frac{\\mathrm{e}^{-\n",
    "   s t_0}}{s} \\right) = \\frac{M}{s}  (1 - \\mathrm{e}^{- s t_0})$$\n",
    "\n",
    "## Función impulso\n",
    "\n",
    "Se trata de un pulso de área $A$ tal que $M \\rightarrow \\infty$ y\n",
    "$t_0 \\rightarrow 0$:\n",
    "\n",
    "```{figure} ./img/impulso.svg\n",
    "---\n",
    "width: 300px\n",
    "figclass: margin-caption\n",
    "---\n",
    "Función impulso de área $A$.\n",
    "```"
   ]
  },
  {
   "cell_type": "markdown",
   "id": "assumed-resource",
   "metadata": {},
   "source": [
    "La transformada de Laplace de esta función es:\n",
    "\n",
    "$$\\mathcal{L} [f (t)] = \\bar{f} (s) = A$$\n",
    "\n",
    "En el caso particular de que el área sea 1 se habla de la función delta\n",
    "de Dirac $\\delta (t)$.\n",
    "\n",
    "A continuación se calcula la transformada de Laplace de un impulso de altura A, $f(t) = A \\delta(t)$:"
   ]
  },
  {
   "cell_type": "code",
   "execution_count": 54,
   "id": "stone-tribute",
   "metadata": {},
   "outputs": [
    {
     "data": {
      "text/latex": [
       "$\\displaystyle A \\left(1 - \\theta\\left(0\\right)\\right)$"
      ],
      "text/plain": [
       "A*(1 - Heaviside(0))"
      ]
     },
     "execution_count": 54,
     "metadata": {},
     "output_type": "execute_result"
    }
   ],
   "source": [
    "from sympy import laplace_transform, DiracDelta, symbols\n",
    "\n",
    "A, t, s = symbols('A t s')\n",
    "\n",
    "laplace_transform(A*DiracDelta(t), t, s, noconds=True)"
   ]
  },
  {
   "cell_type": "markdown",
   "id": "bearing-aerospace",
   "metadata": {},
   "source": [
    "Se puede comprobar fácilmente que el impulso es la derivada de la\n",
    "función escalón.\n",
    "\n",
    "```{admonition} Ejemplo\n",
    "En el Problema 3.4 se puede comprobar las diferencias y similitudes en\n",
    "la respuesta de un proceso a una entrada en escalón y en impulso.\n",
    "```\n",
    "\n",
    "## Función rampa\n",
    "\n",
    "Se trata de una función lineal de pendiente $M$:\n",
    "\n",
    "```{figure} ./img/0.png\n",
    "---\n",
    "figclass: margin\n",
    "align: left\n",
    "---\n",
    "Función rampa de pendiente $M$.\n",
    "\n",
    "Se puede modificar el valor de $M$ utilizando el deslizador (solo cuando se visualiza el *notebook*).\n",
    "```"
   ]
  },
  {
   "cell_type": "code",
   "execution_count": 52,
   "id": "derived-gentleman",
   "metadata": {
    "tags": [
     "hide-input",
     "interactive"
    ]
   },
   "outputs": [
    {
     "data": {
      "application/vnd.jupyter.widget-view+json": {
       "model_id": "8e075ab2b7104ed78f718fd763064f49",
       "version_major": 2,
       "version_minor": 0
      },
      "text/plain": [
       "interactive(children=(FloatSlider(value=1.0, description='M', max=5.0, min=-3.0, step=0.5), Output()), _dom_cl…"
      ]
     },
     "metadata": {},
     "output_type": "display_data"
    }
   ],
   "source": [
    "from ipywidgets import interact\n",
    "\n",
    "from sympy import Symbol, Heaviside\n",
    "\n",
    "M = Symbol('M')\n",
    "\n",
    "def f(M):\n",
    "    plot(M*t*Heaviside(t), (t, -1,5), line_color='red')\n",
    "\n",
    "interact(f, M=(-3, 5, 0.5), continuous_update=False);"
   ]
  },
  {
   "cell_type": "markdown",
   "id": "secondary-alpha",
   "metadata": {},
   "source": [
    "Esta función se define como:\n",
    "\n",
    "$$f (t) = \\left\\{\\begin{array}{ll}\n",
    "     0 & t < 0\\\\\n",
    "     M t & t > 0\n",
    "   \\end{array}\\right. = M t U (t)$$\n",
    "\n",
    "La transformada de Laplace es:\n",
    "\n",
    "$$\\mathcal{L} [M t U (t)] = \\frac{M}{s^2}$$"
   ]
  },
  {
   "cell_type": "code",
   "execution_count": 58,
   "id": "unnecessary-florence",
   "metadata": {},
   "outputs": [
    {
     "data": {
      "text/latex": [
       "$\\displaystyle \\frac{A}{s^{2}}$"
      ],
      "text/plain": [
       "A/s**2"
      ]
     },
     "execution_count": 58,
     "metadata": {},
     "output_type": "execute_result"
    }
   ],
   "source": [
    "from sympy import laplace_transform, symbols\n",
    "\n",
    "M, t, s = symbols('A t s')\n",
    "\n",
    "laplace_transform(M*t, t, s, noconds=True)"
   ]
  },
  {
   "cell_type": "markdown",
   "id": "individual-outdoors",
   "metadata": {},
   "source": [
    "## Funciones trigonométricas\n",
    "\n",
    "La función seno es:\n",
    "\n",
    "```{figure} ./img/0.png\n",
    "---\n",
    "figclass: margin\n",
    "align: left\n",
    "---\n",
    "Función seno de frecuencia $\\omega$.\n",
    "\n",
    "Se puede modificar el valor de $\\omega$ utilizando el deslizador (solo cuando se visualiza el *notebook*).\n",
    "```"
   ]
  },
  {
   "cell_type": "code",
   "execution_count": 60,
   "id": "sonic-liver",
   "metadata": {
    "tags": [
     "hide-input"
    ]
   },
   "outputs": [
    {
     "data": {
      "application/vnd.jupyter.widget-view+json": {
       "model_id": "b2a862fcfabe4ea4b66ef3c8b209a64b",
       "version_major": 2,
       "version_minor": 0
      },
      "text/plain": [
       "interactive(children=(FloatSlider(value=1.0, description='w', max=5.0, min=-3.0, step=0.5), Output()), _dom_cl…"
      ]
     },
     "metadata": {},
     "output_type": "display_data"
    }
   ],
   "source": [
    "from ipywidgets import interact\n",
    "\n",
    "from sympy import Symbol, Heaviside, sin\n",
    "\n",
    "w = Symbol('omega')\n",
    "\n",
    "def f(w):\n",
    "    plot(sin(w*t)*Heaviside(t), (t, -1, 10), line_color='red', size=[8,4])\n",
    "\n",
    "interact(f, w=(-3, 5, 0.5), continuous_update=False);"
   ]
  },
  {
   "cell_type": "markdown",
   "id": "amber-bhutan",
   "metadata": {},
   "source": [
    "Se define la función como:\n",
    "\n",
    "$$f (t) = \\left\\{\\begin{array}{cl}\n",
    "     0 & t < 0\\\\\n",
    "     M \\sin (\\omega t) & t > 0\n",
    "   \\end{array}\\right. = M U (t) \\sin (\\omega t)$$\n",
    "   \n",
    "donde $M$ es la amplitud y $\\omega$ es la frecuencia angular, expresada\n",
    "normalmente como rad/s.\n",
    "\n",
    "La transformada de Laplace de la función seno es:\n",
    "\n",
    "$$\\mathcal{L} [M \\sin (\\omega t)] = \\frac{M \\omega}{s^2 + \\omega^2}$$\n",
    "\n",
    "y la de la función coseno:\n",
    "\n",
    "$$\\mathcal{L} [M \\cos (\\omega t)] = \\frac{M s}{s^2 + \\omega^2}$$"
   ]
  },
  {
   "cell_type": "code",
   "execution_count": 63,
   "id": "rural-poverty",
   "metadata": {},
   "outputs": [
    {
     "data": {
      "text/latex": [
       "$\\displaystyle \\frac{M \\omega}{\\omega^{2} + s^{2}}$"
      ],
      "text/plain": [
       "M*omega/(omega**2 + s**2)"
      ]
     },
     "execution_count": 63,
     "metadata": {},
     "output_type": "execute_result"
    }
   ],
   "source": [
    "from sympy import laplace_transform, symbols, sin\n",
    "\n",
    "M, w, t, s = symbols('M omega t s')\n",
    "\n",
    "laplace_transform(M*sin(w*t), t, s, noconds=True)"
   ]
  }
 ],
 "metadata": {
  "celltoolbar": "Tags",
  "jupytext": {
   "formats": "ipynb,md:myst"
  },
  "kernelspec": {
   "display_name": "Python 3",
   "language": "python",
   "name": "python3"
  },
  "language_info": {
   "codemirror_mode": {
    "name": "ipython",
    "version": 3
   },
   "file_extension": ".py",
   "mimetype": "text/x-python",
   "name": "python",
   "nbconvert_exporter": "python",
   "pygments_lexer": "ipython3",
   "version": "3.8.5"
  }
 },
 "nbformat": 4,
 "nbformat_minor": 5
}
