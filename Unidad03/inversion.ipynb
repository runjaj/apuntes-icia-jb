{
 "cells": [
  {
   "cell_type": "markdown",
   "id": "casual-skiing",
   "metadata": {},
   "source": [
    "# Inversión de transformadas. De vuelta al tiempo real\n",
    "\n",
    "Continuando con el ejemplo se estudiará la salida del sistema para una\n",
    "entrada de tipo escalón unidad:\n",
    "\n",
    "$$\\bar{H} (s) = \\left[ \\frac{R}{R A s + 1} \\right]  \\overline{Q_1} (s) =\n",
    "   \\left[ \\frac{R}{R A s + 1} \\right]  \\frac{1}{s}$$\n",
    "\n",
    "Mediante el operador transformada inversa de Laplace\n",
    "($\\mathcal{L}^{- 1}$) se obtiene la salida en tiempo real. Para ello hay\n",
    "que descomponer la función a invertir en partes asimilables a las que se\n",
    "encuentran en las tablas de transformadas de Laplace (apartado\n",
    "{ref}`transformadas`):\n",
    "\n",
    "$$\\bar{H} (s) = \\left[ \\frac{R}{R A s + 1} \\right]  \\frac{1}{s} = \\frac{a}{s}\n",
    "   + \\frac{b}{s + \\frac{1}{A R}}$$\n",
    "\n",
    "Donde $a$ y $b$ son dos variables a\n",
    "determinar. Obviamente, $a =\n",
    "R$ y $b = - R$. Por tanto,\n",
    "\n",
    "$$H (t) = \\left[ R - R \\mathrm{e}^{- \\frac{t}{R A}} \\right] U (t) = R U (t)\n",
    "   \\left[ 1 - \\mathrm{e}^{- \\frac{t}{R A}} \\right] = R U (t)  \\left[ 1 - \\mathrm{e}^{-\n",
    "   \\frac{t}{\\tau}} \\right]$$\n",
    "   \n",
    "donde $\\tau = R A$ es la constante de\n",
    "tiempo y tiene dimensiones de tiempo.\n",
    "\n",
    "Tamibén se puede realizar la transformada inversa de Laplace de una manera muy simple utilizando *Sympy*:"
   ]
  },
  {
   "cell_type": "code",
   "execution_count": 43,
   "id": "sustainable-glenn",
   "metadata": {},
   "outputs": [
    {
     "data": {
      "image/png": "[encoded data removed]",
      "text/latex": [
       "$\\displaystyle R \\theta\\left(t\\right) - R e^{- \\frac{t}{A R}} \\theta\\left(t\\right)$"
      ],
      "text/plain": [
       "            -t      \n",
       "            ───     \n",
       "            A⋅R     \n",
       "R⋅θ(t) - R⋅ℯ   ⋅θ(t)"
      ]
     },
     "execution_count": 43,
     "metadata": {},
     "output_type": "execute_result"
    }
   ],
   "source": [
    "# Importación de las funciones necesarias\n",
    "# Cuando se trabaja de manera interactiva es común usar:\n",
    "#\n",
    "# from sympy import *\n",
    "#\n",
    "# para no tener que preocuparse de que funciones están disponibles.\n",
    "from sympy import inverse_laplace_transform, symbols\n",
    "\n",
    "# Definición de los símbolos necesarios\n",
    "R, A, t = symbols(\"R A t\", real=True)\n",
    "s = symbols(\"s\")\n",
    "\n",
    "# Definición de la función de transferencia, G(s)\n",
    "G = R/(R*A*s+1)\n",
    "\n",
    "# Definición de la función de entrada, f(s), en este caso un escalón unidad\n",
    "f = 1/s\n",
    "\n",
    "# Cálculo de la respuesta, H(t)\n",
    "inverse_laplace_transform(G*f, s, t)"
   ]
  },
  {
   "cell_type": "markdown",
   "id": "biblical-gather",
   "metadata": {},
   "source": [
    "Cuanto mayor es $\\tau$ más lenta es la respuesta, más tarda el sistema en alcanzar el estado estacionario. Se comprueba\n",
    "que cuanto menor es la sección del tanque más rápida es la respuesta. Si\n",
    "$\\tau$ es grande se dice que el sistema presenta una gran inercia."
   ]
  },
  {
   "cell_type": "code",
   "execution_count": null,
   "id": "threaded-grounds",
   "metadata": {},
   "outputs": [],
   "source": [
    "#plot"
   ]
  },
  {
   "cell_type": "markdown",
   "id": "dental-inquiry",
   "metadata": {},
   "source": [
    "```{admonition} Ejemplo\n",
    "La técnica propuesta en este capítulo para obtener modelos matemáticos\n",
    "se puede utilizar para modelos de mayor complejidad, como el que se\n",
    "obtiene en la resolución del problema 3.7.\n",
    "```"
   ]
  },
  {
   "cell_type": "code",
   "execution_count": null,
   "id": "coastal-alberta",
   "metadata": {},
   "outputs": [],
   "source": []
  }
 ],
 "metadata": {
  "celltoolbar": "Tags",
  "jupytext": {
   "cell_metadata_filter": "-all",
   "formats": "md:myst,ipynb"
  },
  "kernelspec": {
   "display_name": "Python 3",
   "language": "python",
   "name": "python3"
  },
  "language_info": {
   "codemirror_mode": {
    "name": "ipython",
    "version": 3
   },
   "file_extension": ".py",
   "mimetype": "text/x-python",
   "name": "python",
   "nbconvert_exporter": "python",
   "pygments_lexer": "ipython3",
   "version": "3.8.5"
  }
 },
 "nbformat": 4,
 "nbformat_minor": 5
}
