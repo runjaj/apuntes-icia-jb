{
 "cells": [
  {
   "cell_type": "markdown",
   "id": "affecting-pipeline",
   "metadata": {},
   "source": [
    "# Problema 3.2\n",
    "\n",
    "Hallar la transformada inversa de:\n",
    "\n",
    "1.  $f (s) = \\frac{1}{\\frac{s}{3} + 1}$\n",
    "\n",
    "2.  $f (s) = \\frac{s}{(s + 1)  (s^2 + 1)}$\n",
    "\n",
    "3.  $f (s) = \\frac{3 s + 4}{s^3  (s + 2)}$\n",
    "\n",
    "4.  $f (s) = \\frac{s^2}{(s^2 + 1)^2}$\n",
    "\n",
    "----\n",
    "\n",
    "**Solución**\n",
    "\n",
    "a\\) Para realizar la transformada inversa de Laplace se puede consultar\n",
    "las tablas, donde se encuentra que:\n",
    "\n",
    "$$\\mathcal{L} (\\mathrm{e}^{-at}) = \\frac{1}{s + a}$$\n",
    "\n",
    "Por tanto, para resolver el ejercicio se operará de la siguiente manera:\n",
    "\n",
    "$$f (s) = \\frac{1}{\\frac{s}{3} + 1} = \\frac{3}{s + 3}$$ \n",
    "\n",
    "Por tanto,\n",
    "realizando la transformada inversa de Laplace y considerando que el\n",
    "operador es asociativo:\n",
    "\n",
    "$$f (t) =\\mathcal{L}^{- 1} \\left( \\frac{3}{s + 3} \\right) = 3 \\mathrm{e}^{- 3 t}$$\n",
    "\n",
    "También se puede resolver el problema utilizando *Sympy*, como siempre empezaremos cargando la librería y defiendo las variables $t$ y $s$:"
   ]
  },
  {
   "cell_type": "code",
   "execution_count": 1,
   "id": "august-medication",
   "metadata": {},
   "outputs": [],
   "source": [
    "from sympy import *\n",
    "s = Symbol('s')\n",
    "t = Symbol('t', real=True)"
   ]
  },
  {
   "cell_type": "markdown",
   "id": "protecting-wells",
   "metadata": {},
   "source": [
    "La función para realizar la transformada inversa de Laplace es `inverse_laplace_transform`y la sintaxis es sencilla y similar a `laplace_transform`:"
   ]
  },
  {
   "cell_type": "code",
   "execution_count": 2,
   "id": "industrial-recruitment",
   "metadata": {},
   "outputs": [
    {
     "data": {
      "text/latex": [
       "$\\displaystyle 3 e^{- 3 t} \\theta\\left(t\\right)$"
      ],
      "text/plain": [
       "3*exp(-3*t)*Heaviside(t)"
      ]
     },
     "execution_count": 2,
     "metadata": {},
     "output_type": "execute_result"
    }
   ],
   "source": [
    "inverse_laplace_transform(1/(s/3 + 1), s, t)"
   ]
  },
  {
   "cell_type": "markdown",
   "id": "magnetic-string",
   "metadata": {},
   "source": [
    "Al igual que en el problema 3.01 definimos una función `L()` para que hacer que fuera más sencillo el calcular las transformada de Laplace, podemos hacer lo mismo para la transformada inversa de Laplace. Definimos una nueva función llamada `invL`, su funcionamiento es trivial:"
   ]
  },
  {
   "cell_type": "code",
   "execution_count": 3,
   "id": "logical-michael",
   "metadata": {},
   "outputs": [
    {
     "data": {
      "text/latex": [
       "$\\displaystyle 3 e^{- 3 t} \\theta\\left(t\\right)$"
      ],
      "text/plain": [
       "3*exp(-3*t)*Heaviside(t)"
      ]
     },
     "execution_count": 3,
     "metadata": {},
     "output_type": "execute_result"
    }
   ],
   "source": [
    "def invL(f):\n",
    "    return inverse_laplace_transform(f, s, t)\n",
    "\n",
    "invL(1/(s/3 + 1))"
   ]
  },
  {
   "cell_type": "markdown",
   "id": "silent-anthropology",
   "metadata": {},
   "source": [
    "b\\) Para poder realizar la transformada inversa de Laplace es necesario\n",
    "realizar la descomposición de la función en fracciones simples:\n",
    "\n",
    "$$f (s) = \\frac{s}{(s + 1)  (s^2 + 1)} = \\frac{A}{s + 1} + \\frac{B (s +\n",
    "   1)}{s^2 + 1}$$ \n",
    "   \n",
    "   Realizando la suma y simplificando el denominador se\n",
    "obtiene: \n",
    "\n",
    "$$s = A (s^2 + 1) + B (s^2 + 2 s + 1)$$\n",
    "\n",
    "Para encontrar $A$ y $B$\n",
    "hay que resolver el siguiente sistema: \n",
    "\n",
    "$$\\left\\{\\begin{array}{l}\n",
    "     0 = A + B\\\\\n",
    "     1 = 2 B\n",
    "   \\end{array}\\right.$$ \n",
    "   \n",
    "   Por tanto, $A = - \\frac{1}{2}$ y\n",
    "$B = \\frac{1}{2}$. Como consecuencia, aplicando la propiedad asociativa:\n",
    "\n",
    "\n",
    "$$f (t) =\\mathcal{L}^{- 1} \\left( \\frac{s}{(s + 1) (s^2 + 1)} \\right)\n",
    "   =\\mathcal{L}^{- 1} \\left( \\frac{- \\frac{1}{2}}{s + 1} + \\frac{\\frac{1}{2}\n",
    "   (s + 1)}{s^2 + 1} \\right) =\\mathcal{L}^{- 1} \\left( \\frac{- \\frac{1}{2}}{s\n",
    "   + 1} \\right) +\\mathcal{L}^{- 1} \\left( \\frac{\\frac{1}{2} (s + 1)}{s^2 + 1}\n",
    "   \\right)$$ \n",
    "   \n",
    "   La transformada inversa de Laplace del primer sumando es\n",
    "directa:\n",
    "\n",
    "\n",
    "$$\\mathcal{L}^{- 1} \\left( \\frac{- \\frac{1}{2}}{s + 1} \\right) = -\n",
    "   \\frac{1}{2} \\mathrm{e}^{- t}$$ \n",
    "   \n",
    "   La transformada inversa de Laplace del\n",
    "segundo sumando require descomponer la fracción para encontrar funciones\n",
    "como las que aparecen en las tablas:\n",
    "\n",
    "\n",
    "$$\\mathcal{L}^{- 1} \\left( \\frac{\\frac{1}{2} (s + 1)}{s^2 + 1} \\right) =\n",
    "   \\frac{1}{2} \\left[ \\mathcal{L}^{- 1} \\left( \\frac{s}{s^2 + 1} \\right)\n",
    "   +\\mathcal{L}^{- 1} \\left( \\frac{1}{s^2 + 1} \\right) \\right] = \\frac{1}{2} \n",
    "   (\\cos t + \\sin t)$$\n",
    "   \n",
    "   El resultado del\n",
    "problema es:\n",
    "\n",
    "\n",
    "$$f (t) = - \\frac{1}{2} \\mathrm{e}^{- t} + \\frac{1}{2}  (\\cos t + \\sin t)$$\n",
    "\n",
    "Utilizando Sympy podemos realizar la descomposición en fracciones simples:"
   ]
  },
  {
   "cell_type": "code",
   "execution_count": 4,
   "id": "parental-cutting",
   "metadata": {},
   "outputs": [
    {
     "data": {
      "text/latex": [
       "$\\displaystyle \\frac{s + 1}{2 \\left(s^{2} + 1\\right)} - \\frac{1}{2 \\left(s + 1\\right)}$"
      ],
      "text/plain": [
       "(s + 1)/(2*(s**2 + 1)) - 1/(2*(s + 1))"
      ]
     },
     "execution_count": 4,
     "metadata": {},
     "output_type": "execute_result"
    }
   ],
   "source": [
    "f = s/((s+1)*(s**2+1))\n",
    "apart(f)"
   ]
  },
  {
   "cell_type": "markdown",
   "id": "figured-journalism",
   "metadata": {},
   "source": [
    "Tambien podemos realizar la transformada inversa de Laplace:"
   ]
  },
  {
   "cell_type": "code",
   "execution_count": 5,
   "id": "developing-spray",
   "metadata": {},
   "outputs": [
    {
     "data": {
      "text/latex": [
       "$\\displaystyle \\frac{\\left(e^{t} \\sin{\\left(t \\right)} + e^{t} \\cos{\\left(t \\right)} - 1\\right) e^{- t} \\theta\\left(t\\right)}{2}$"
      ],
      "text/plain": [
       "(exp(t)*sin(t) + exp(t)*cos(t) - 1)*exp(-t)*Heaviside(t)/2"
      ]
     },
     "execution_count": 5,
     "metadata": {},
     "output_type": "execute_result"
    }
   ],
   "source": [
    "invL(f)"
   ]
  },
  {
   "cell_type": "markdown",
   "id": "included-eclipse",
   "metadata": {},
   "source": [
    "c) Para realizar la transformada inversa de Laplace es necesario\n",
    "descomponer f(s) en fracciones simples:\n",
    "\n",
    "$$f (s) = \\frac{3 s + 4}{s^3  (s + 2)} = \\frac{A s^2 + B s + C}{s^3} +\n",
    "   \\frac{D}{s + 2}$$ \n",
    "   \n",
    "   Tras realizar la suma y simplificar el denominador\n",
    "de la ecuación se obtiene:\n",
    "\n",
    "$$3 s + 4 = A s^3 + s^2  (2 A + B) + s (2 B + C) + 2 C + D s^3$$ \n",
    "\n",
    "Para\n",
    "encontrar $A$, $B$, $C$ y $D$ hay que resolver el siguiente sistema de\n",
    "ecuaciones: \n",
    "\n",
    "$$\\left\\{\\begin{array}{l}\n",
    "     0 = A + D\\\\\n",
    "     0 = 2 A + B\\\\\n",
    "     3 = 2 B + C\\\\\n",
    "     4 = 2 C\n",
    "   \\end{array}\\right.$$ \n",
    "   \n",
    "   La solución es $A = - \\frac{1}{4}$,\n",
    "$B = \\frac{1}{2}$, $C = 2$ y $D =\n",
    "\\frac{1}{4}$. Por tanto,\n",
    "\n",
    "$$f (s) = - \\frac{1}{4} + \\frac{\\frac{1}{2}}{s^2} + \\frac{2}{s^3} +\n",
    "   \\frac{\\frac{1}{4}}{s + 2}$$ \n",
    "   \n",
    "   La realización de la transformada inversa\n",
    "de Laplace es trivial:\n",
    "\n",
    "$$f (t) = - \\frac{1}{4} + \\frac{1}{2} t + t^2 + \\frac{1}{4} \\mathrm{e}^{- 2 t}$$\n",
    "\n",
    "Podemos comprobar los resultados con Sympy. En primer lugar, realizaremos la descomposición de fracciones simples:"
   ]
  },
  {
   "cell_type": "code",
   "execution_count": 6,
   "id": "handy-charm",
   "metadata": {},
   "outputs": [
    {
     "data": {
      "text/latex": [
       "$\\displaystyle \\frac{1}{4 \\left(s + 2\\right)} - \\frac{1}{4 s} + \\frac{1}{2 s^{2}} + \\frac{2}{s^{3}}$"
      ],
      "text/plain": [
       "1/(4*(s + 2)) - 1/(4*s) + 1/(2*s**2) + 2/s**3"
      ]
     },
     "execution_count": 6,
     "metadata": {},
     "output_type": "execute_result"
    }
   ],
   "source": [
    "apart((3*s+4)/(s**3*(s+2)))"
   ]
  },
  {
   "cell_type": "markdown",
   "id": "liquid-progress",
   "metadata": {},
   "source": [
    "La tranformada inversa de Laplace:"
   ]
  },
  {
   "cell_type": "code",
   "execution_count": 7,
   "id": "reasonable-antibody",
   "metadata": {},
   "outputs": [
    {
     "data": {
      "text/latex": [
       "$\\displaystyle t^{2} \\theta\\left(t\\right) + \\frac{t \\theta\\left(t\\right)}{2} - \\frac{\\theta\\left(t\\right)}{4} + \\frac{e^{- 2 t} \\theta\\left(t\\right)}{4}$"
      ],
      "text/plain": [
       "t**2*Heaviside(t) + t*Heaviside(t)/2 - Heaviside(t)/4 + exp(-2*t)*Heaviside(t)/4"
      ]
     },
     "execution_count": 7,
     "metadata": {},
     "output_type": "execute_result"
    }
   ],
   "source": [
    "invL((3*s+4)/(s**3*(s+2)))"
   ]
  },
  {
   "cell_type": "markdown",
   "id": "elegant-mission",
   "metadata": {},
   "source": [
    "d) De nuevo, antes de realizar la transformada inversa de Laplace hay\n",
    "que realizar la descomposición en fracciones simples. Para realizarla se\n",
    "seguirá en este caso el método que aparece en el Tema 2. Se buscan las\n",
    "raíces del denominador de f(s), estas raíces son dobles y son i y -i.\n",
    "Por tanto la descomposición en raíces simples, teniendo en cuenta que\n",
    "las raíces son dobles, es:\n",
    "\n",
    "$$f (s) = \\frac{s^2}{(s^2 + 1)^2} = \\frac{s^2}{(s - \\mathrm{i})^2  (s +\n",
    "   \\mathrm{i})^2} = \\frac{A}{(s - \\mathrm{i})^2} + \\frac{B}{s - \\mathrm{i}} + \\frac{C}{(s\n",
    "   + \\mathrm{i})^2} + \\frac{D}{s + \\mathrm{i}}$$ \n",
    "   \n",
    "   Según el método, para\n",
    "encontrar $A$:\n",
    "\n",
    "$$A = \\lim_{s \\rightarrow \\mathrm{i}} \\left[ (s - \\mathrm{i})^2  \\frac{s^2}{(s -\n",
    "   \\mathrm{i})^2  (s + \\mathrm{i})^2} \\right] = \\frac{1}{4}$$\n",
    "   \n",
    "   Para $B$,\n",
    "$C$ y $D$:\n",
    "\n",
    "$$B = \\lim_{s \\rightarrow \\mathrm{i}} \\left\\{ \\frac{\\mathrm{d}}{\\mathrm{d}s} \\left[ (s -\n",
    "   \\mathrm{i})^2  \\frac{s^2}{(s - \\mathrm{i})^2  (s + \\mathrm{i})^2} \\right] \\right\\} =\n",
    "   \\lim_{s \\rightarrow \\mathrm{i}} \\left[ \\frac{2 s (s + \\mathrm{i})^2 - s^2 2 (s +\n",
    "   1)}{(s + \\mathrm{i})^4} \\right] = \\frac{2 \\mathrm{i}(- 4) - (- 1) 2 (2\n",
    "   \\mathrm{i})}{16} = \\frac{- 8 \\mathrm{i}+ 4 \\mathrm{i}}{16} = - \\frac{\\mathrm{i}}{4}$$\n",
    "   \n",
    "$$\\begin{array}{ll}\n",
    "     C = \\lim_{s \\rightarrow \\mathrm{i}} \\left[ (s + i)^2  \\frac{s^2}{(s -\n",
    "     \\mathrm{i})^2  (s + \\mathrm{i})^2} \\right] = \\frac{1}{4} & \n",
    "   \\end{array}$$\n",
    "   \n",
    "$$D = \\lim_{s \\rightarrow \\mathrm{i}} \\left\\{ \\frac{\\mathrm{d}}{\\mathrm{d}s} \\left[ (s +\n",
    "   \\mathrm{i})^2 \\frac{s^2}{(s - \\mathrm{i})^2  (s + \\mathrm{i})^2} \\right] \\right\\} =\n",
    "   \\lim_{s \\rightarrow \\mathrm{i}} \\left[ \\frac{2 s (s - \\mathrm{i})^2 - s^2 2 (s -\n",
    "   1)}{(s - \\mathrm{i})^4} \\right] = \\frac{2 (- \\mathrm{i})  (- 4) - (- 1) 2 (- 2\n",
    "   \\mathrm{i})}{16} = \\frac{\\mathrm{i}}{4}$$ \n",
    "   \n",
    "   Por tanto, la\n",
    "descomposición en fracciones simples queda de la manera siguiente:\n",
    "\n",
    "$$\\frac{s^2}{(s - \\mathrm{i})^2  (s + \\mathrm{i})^2} = \\frac{\\frac{1}{4}}{(s -\n",
    "   \\mathrm{i})^2} - \\frac{\\frac{\\mathrm{i}}{4}}{s - \\mathrm{i}} + \\frac{\\frac{1}{4}}{(s +\n",
    "   \\mathrm{i})^2} + \\frac{\\frac{\\mathrm{i}}{4}}{s + \\mathrm{i}}$$\n",
    "   \n",
    "   La\n",
    "realización de la trasnformada inversa de Laplace es directa:\n",
    "\n",
    "$$F (t) = \\frac{1}{4} t \\mathrm{e}^{\\mathrm{i}t} - \\frac{\\mathrm{i}}{4} \\mathrm{e}^{\\mathrm{i}\n",
    "   t} + \\frac{1}{4} t \\mathrm{e}^{- \\mathrm{i}t} + \\frac{\\mathrm{i}}{4} \\mathrm{e}^{- \\mathrm{i}\n",
    "   t}$$ \n",
    "   \n",
    "   Para obtener una respuesta en tiempo real util es necesario\n",
    "eliminar los números complejos de la función. Para ello, hay que\n",
    "considerar la escritura exponencial de un número complejo:\n",
    "\n",
    "$$\\alpha = \\beta + \\mathrm{i}\\gamma \\Longrightarrow \\mathrm{e}^{\\alpha t} =\n",
    "   \\mathrm{e}^{\\beta t} (\\cos \\gamma t + \\mathrm{i}\\sin \\gamma t)$$\n",
    "   \n",
    "De manera que:\n",
    "\n",
    "$$\\mathrm{e}^{\\mathrm{i}t} = \\cos t + \\mathrm{i}\\sin t$$\n",
    "$$\\mathrm{e}^{-\n",
    "   \\mathrm{i}t} = \\cos (- t) + \\mathrm{i}\\sin (- t) = \\cos t - \\mathrm{i}\n",
    "   \\sin t$$\n",
    "   \n",
    "   Sustituyendo en F(t):\n",
    "   \n",
    "$$F (t) = \\frac{1}{4} t (\\cos t + \\mathrm{i}\\sin t) - \\frac{\\mathrm{i}}{4}\n",
    "   (\\cos t + \\mathrm{i}\\sin t) + \\frac{1}{4} t (\\cos t - \\mathrm{i}\\sin\n",
    "   t) + \\frac{\\mathrm{i}}{4} (\\cos t - \\mathrm{i}\\sin t)$$\n",
    "   \n",
    "Operando:\n",
    "\n",
    "**$$F (t) = \\frac{1}{2} t \\cos t + \\frac{1}{2} \\sin t$$**\n",
    "\n",
    "También se puede resolver el problema utilizando Sympy.\n",
    "\n",
    "Podemos realizar la descomposición en factores simples:"
   ]
  },
  {
   "cell_type": "code",
   "execution_count": 8,
   "id": "solved-chest",
   "metadata": {},
   "outputs": [
    {
     "data": {
      "text/latex": [
       "$\\displaystyle \\frac{1}{s^{2} + 1} - \\frac{1}{\\left(s^{2} + 1\\right)^{2}}$"
      ],
      "text/plain": [
       "1/(s**2 + 1) - 1/(s**2 + 1)**2"
      ]
     },
     "execution_count": 8,
     "metadata": {},
     "output_type": "execute_result"
    }
   ],
   "source": [
    "f = s**2/(s**2+1)**2\n",
    "\n",
    "apart(f)"
   ]
  },
  {
   "cell_type": "markdown",
   "id": "varying-newark",
   "metadata": {},
   "source": [
    "La transformada inversa de Laplace:"
   ]
  },
  {
   "cell_type": "code",
   "execution_count": 9,
   "id": "verified-republican",
   "metadata": {},
   "outputs": [
    {
     "data": {
      "text/latex": [
       "$\\displaystyle \\frac{\\left(t \\cos{\\left(t \\right)} + \\sin{\\left(t \\right)}\\right) \\theta\\left(t\\right)}{2}$"
      ],
      "text/plain": [
       "(t*cos(t) + sin(t))*Heaviside(t)/2"
      ]
     },
     "execution_count": 9,
     "metadata": {},
     "output_type": "execute_result"
    }
   ],
   "source": [
    "invL(f)"
   ]
  }
 ],
 "metadata": {
  "kernelspec": {
   "display_name": "Python 3",
   "language": "python",
   "name": "python3"
  },
  "language_info": {
   "codemirror_mode": {
    "name": "ipython",
    "version": 3
   },
   "file_extension": ".py",
   "mimetype": "text/x-python",
   "name": "python",
   "nbconvert_exporter": "python",
   "pygments_lexer": "ipython3",
   "version": "3.8.5"
  }
 },
 "nbformat": 4,
 "nbformat_minor": 5
}
