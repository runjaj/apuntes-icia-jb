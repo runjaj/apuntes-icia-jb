{
 "cells": [
  {
   "cell_type": "markdown",
   "id": "located-marriage",
   "metadata": {},
   "source": [
    "# Problema 3.3\n",
    "\n",
    "Usando la técnica de la transformada de Laplace, encontrar las\n",
    "respuestas transitoria y estacionaria del sistema descrito por la\n",
    "ecuación diferencial siguiente:\n",
    "\n",
    "$$\\frac{\\mathrm{d}^2 y}{\\mathrm{d}t^2} + 3 \\frac{\\mathrm{d}y}{\\mathrm{d}t} + 2 y = 1$$\n",
    "\n",
    "con las condiciones iniciales $y (0) = y' (0) = 1$.\n",
    "\n",
    "----\n",
    "\n",
    "**Solución**\n",
    "\n",
    "La transformada de una derivada de una función y de la derivada segunda\n",
    "es:\n",
    "\n",
    "$$\\mathcal{L} \\left( \\frac{\\mathrm{d}f (t)}{\\mathrm{d}t} \\right) = s f (s) - f (0)$$\n",
    "\n",
    "$$\\begin{equation}\n",
    "     \\mathcal{L} \\left( \\frac{\\mathrm{d}^2 f (t)}{\\mathrm{d}t^2} \\right) = - \\left.\n",
    "     \\frac{\\mathrm{d}}{\\mathrm{d}t} f (t) \\right|_{t = 0} + s^2 f (s) - f (0) s\n",
    "   \\end{equation}$$ \n",
    "   \n",
    "Realizando la transformada de Laplace a la\n",
    "ecuación diferencial a resolver y considerando las condiciones iniciales\n",
    "se obtiene:\n",
    "\n",
    "\n",
    "$$s^{2_{}}  \\bar{y} - s - 1 + 3 (s \\bar{y} - 1) + 2 \\bar{y} = \\frac{1}{s}$$\n",
    "\n",
    "\n",
    "Despejando $\\bar{y}$:\n",
    "\n",
    "$$\\bar{y} = \\frac{s^2 + 4 s + 1}{s (s + 1)  (s + 2)}$$\n",
    "\n",
    "Para poder\n",
    "realizar la transformada inversa de Laplace y poder obtener *y(t)* hay\n",
    "que realizar primero la descomposición en fracciones simples de\n",
    "$\\bar{y} (s)$:\n",
    "\n",
    "$$\\frac{s^2 + 4 s + 1}{s (s + 1)  (s + 2)} = \\frac{A}{s} + \\frac{B}{s + 1} +\n",
    "   \\frac{C}{s + 2}$$\n",
    "   \n",
    "   Sumando las fracciones simples y simplificando el\n",
    "denominador se obtiene la siguiente ecuación:\n",
    "\n",
    "$$s^2 + 4 s + 1 = A (s + 1)  (s + 2) + Bs (s + 2) + Cs (s + 1)$$\n",
    "\n",
    "Operando se obtiene el sistema de ecuaciones siguiente:\n",
    "\n",
    "$$\\left\\{\\begin{array}{l}\n",
    "     (1) s^2 = (A + B + C) s^2\\\\\n",
    "     (4) s = (3 A + 3 B + C) s\\\\\n",
    "     1 = 2 A\n",
    "   \\end{array}\\right.$$ \n",
    "   \n",
    "   La solución de este sistema es\n",
    "$A = \\frac{1}{2}$, $B = 2$ y $C = -\n",
    "\\frac{3}{2}$. Por tanto,\n",
    "\n",
    "$$\\bar{y} = \\frac{\\frac{1}{2}}{s} + \\frac{2}{s + 1} - \\frac{\\frac{3}{2}}{s +\n",
    "   2}$$ \n",
    "   \n",
    "Realizando la transformada inversa de Laplace, consultando las\n",
    "tablas, se obtiene:\n",
    "\n",
    "$$y (t) = \\frac{1}{2} U (t) + 2 \\mathrm{e}^{- t} - \\frac{3}{2} \\mathrm{e}^{- 2 t}$$\n",
    "\n",
    "donde $U (t)$ es el escalón unidad.\n",
    "\n",
    "La parte estacionaria de $y (t)$ es $\\frac{1}{2} U (t)$ ya que:\n",
    "\n",
    "$$\\lim_{t \\rightarrow \\infty} y (t) = \\frac{1}{2}$$\n",
    "\n",
    "El resto de la solución es la respuesta transitoria, es decir, la parte de la solución dependiente del tiempo.\n",
    "\n",
    "*Resolución con *Sympy**\n",
    "\n",
    "En primer lugar, cargaremos la librería y definiremos las variables $s$ y $t$. Como es habitual, especificaremos que el tiempo es una variable real. Además, definiremos $y$ como una función, ya que $y(t)$ será nuestra función incógnita:"
   ]
  },
  {
   "cell_type": "code",
   "execution_count": 1,
   "id": "parallel-austin",
   "metadata": {},
   "outputs": [
    {
     "data": {
      "text/latex": [
       "$\\begin{align*}y\\end{align*}$\n"
      ],
      "text/plain": [
       "y"
      ]
     },
     "execution_count": 1,
     "metadata": {},
     "output_type": "execute_result"
    }
   ],
   "source": [
    "using SymPy\n",
    "#init_printing()\n",
    "\n",
    "t = symbols(\"t\", real=True)\n",
    "s = symbols(\"s\")\n",
    "\n",
    "y = SymFunction(\"y\")"
   ]
  },
  {
   "cell_type": "markdown",
   "id": "headed-forward",
   "metadata": {},
   "source": [
    "El siguiente paso es definir las condiciones iniciales, $y(0) = 1$ y $\\frac{\\mathrm{d} y(0)}{\\mathrm{d} t} = 1$. Observad la sintaxis:"
   ]
  },
  {
   "cell_type": "code",
   "execution_count": 2,
   "id": "brief-extension",
   "metadata": {},
   "outputs": [
    {
     "data": {
      "text/plain": [
       "((y, 0, 1), (y', 0, 1))"
      ]
     },
     "execution_count": 2,
     "metadata": {},
     "output_type": "execute_result"
    }
   ],
   "source": [
    "# ic = {y(0):1, diff(y(t), t).subs(t, 0):1}\n",
    "ic = ((y, 0, 1), (y', 0, 1))\n",
    "\n",
    "ic"
   ]
  },
  {
   "cell_type": "markdown",
   "id": "soviet-competition",
   "metadata": {},
   "source": [
    "Para reducir errores es conveniente definir la ecuación diferencial y la llamaremos `deq`. Para definir una ecuación en *Sympy* se utiliza la función `Eq(lhs, rhs)` donde `lhs` indica la parte derecha de la igualdad y `rhs`la parte derecha:"
   ]
  },
  {
   "cell_type": "code",
   "execution_count": 3,
   "id": "small-constraint",
   "metadata": {},
   "outputs": [
    {
     "data": {
      "text/latex": [
       "$\\begin{equation*}2 y{\\left(t \\right)} + 3 \\frac{d}{d t} y{\\left(t \\right)} + \\frac{d^{2}}{d t^{2}} y{\\left(t \\right)} = 1\\end{equation*}$\n"
      ],
      "text/plain": [
       "                        2          \n",
       "           d           d           \n",
       "2⋅y(t) + 3⋅──(y(t)) + ───(y(t)) = 1\n",
       "           dt           2          \n",
       "                      dt           "
      ]
     },
     "execution_count": 3,
     "metadata": {},
     "output_type": "execute_result"
    }
   ],
   "source": [
    "deq = Eq(y''(t) + 3y'(t) +2y(t), 1)\n",
    "\n",
    "deq"
   ]
  },
  {
   "cell_type": "markdown",
   "id": "collectible-destination",
   "metadata": {},
   "source": [
    "Ya estamos en condiciones de resolver la ecuación diferencial mediante la instrucción `dsolve()`, que utiliza internamente la transformada inversa de Laplace. La solución de la ecuación la guardamos en la variable `sol`\n",
    ":"
   ]
  },
  {
   "cell_type": "code",
   "execution_count": 4,
   "id": "informed-setting",
   "metadata": {},
   "outputs": [
    {
     "data": {
      "text/latex": [
       "$\\begin{equation*}y{\\left(t \\right)} = \\frac{1}{2} + 2 e^{- t} - \\frac{3 e^{- 2 t}}{2}\\end{equation*}$\n"
      ],
      "text/plain": [
       "                      -2⋅t\n",
       "       1      -t   3⋅ℯ    \n",
       "y(t) = ─ + 2⋅ℯ   - ───────\n",
       "       2              2   "
      ]
     },
     "execution_count": 4,
     "metadata": {},
     "output_type": "execute_result"
    }
   ],
   "source": [
    "sol = dsolve(deq, y(t), ics=ic)\n",
    "sol"
   ]
  },
  {
   "cell_type": "markdown",
   "id": "elegant-polish",
   "metadata": {},
   "source": [
    "El resultado es una igualdad, en el caso de que nos interese la parte derecha:"
   ]
  },
  {
   "cell_type": "code",
   "execution_count": 5,
   "id": "minute-nightmare",
   "metadata": {},
   "outputs": [
    {
     "data": {
      "text/latex": [
       "$\\begin{equation*}\\frac{1}{2} + 2 e^{- t} - \\frac{3 e^{- 2 t}}{2}\\end{equation*}$\n"
      ],
      "text/plain": [
       "               -2⋅t\n",
       "1      -t   3⋅ℯ    \n",
       "─ + 2⋅ℯ   - ───────\n",
       "2              2   "
      ]
     },
     "execution_count": 5,
     "metadata": {},
     "output_type": "execute_result"
    }
   ],
   "source": [
    "sol.rhs"
   ]
  },
  {
   "cell_type": "markdown",
   "id": "floral-renaissance",
   "metadata": {},
   "source": [
    "Si es la parte izquierda:"
   ]
  },
  {
   "cell_type": "code",
   "execution_count": 6,
   "id": "included-difficulty",
   "metadata": {},
   "outputs": [
    {
     "data": {
      "text/latex": [
       "$\\begin{equation*}y{\\left(t \\right)}\\end{equation*}$\n"
      ],
      "text/plain": [
       "y(t)"
      ]
     },
     "execution_count": 6,
     "metadata": {},
     "output_type": "execute_result"
    }
   ],
   "source": [
    "sol.lhs"
   ]
  },
  {
   "cell_type": "markdown",
   "id": "expanded-vampire",
   "metadata": {},
   "source": [
    "Para encontar la **respuesta estacionaria** hay que calcular el límite cuando el tiempo tiende a infinito, ya que entonces habrá desaparecido la influencia de la respuesta transitoria:"
   ]
  },
  {
   "cell_type": "code",
   "execution_count": 7,
   "id": "stupid-ottawa",
   "metadata": {},
   "outputs": [
    {
     "data": {
      "text/latex": [
       "$\\begin{equation*}\\frac{1}{2}\\end{equation*}$\n"
      ],
      "text/plain": [
       "1/2"
      ]
     },
     "execution_count": 7,
     "metadata": {},
     "output_type": "execute_result"
    }
   ],
   "source": [
    "limit(sol.rhs, t, oo)"
   ]
  }
 ],
 "metadata": {
  "@webio": {
   "lastCommId": null,
   "lastKernelId": null
  },
  "kernelspec": {
   "display_name": "Julia 1.6.0",
   "language": "julia",
   "name": "julia-1.6"
  },
  "language_info": {
   "file_extension": ".jl",
   "mimetype": "application/julia",
   "name": "julia",
   "version": "1.6.0"
  }
 },
 "nbformat": 4,
 "nbformat_minor": 5
}
