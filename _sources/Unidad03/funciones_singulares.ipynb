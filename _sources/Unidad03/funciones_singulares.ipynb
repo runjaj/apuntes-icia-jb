{
 "cells": [
  {
   "cell_type": "markdown",
   "id": "hearing-syracuse",
   "metadata": {},
   "source": [
    "# Transformadas de algunas funciones singulares\n",
    "\n",
    "A continuación se muestran las transformadas de algunas funciones con\n",
    "las que se trabajará frecuentemente más adelante ya que pueden ser\n",
    "asimiladas como las perturbaciones más frecuentes.\n",
    "\n",
    "Si no se dice lo contrario todas estas funciones se definen para que su\n",
    "valor sea nulo a tiempo menor que cero.\n",
    "\n",
    "## Función escalón\n",
    "\n",
    "Es una función cuyo valor para tiempos menores que cero es nulo y que\n",
    "alcanza el valor $M$ para tiempo mayores que 0:\n",
    "\n",
    "```{figure} ./img/0.png\n",
    "---\n",
    "figclass: margin\n",
    "align: left\n",
    "---\n",
    "Función escalón de altura $M$.\n",
    "\n",
    "Se puede modificar el valor de $M$ utilizando el deslizador (solo cuando se visualiza el *notebook*).\n",
    "```"
   ]
  },
  {
   "cell_type": "code",
   "execution_count": 1,
   "id": "sapphire-visit",
   "metadata": {
    "tags": [
     "hide-input",
     "interactive"
    ]
   },
   "outputs": [
    {
     "data": {
      "application/vnd.jupyter.widget-view+json": {
       "model_id": "b5d6350f1d2141569b78748bdeeb4865",
       "version_major": 2,
       "version_minor": 0
      },
      "text/plain": [
       "interactive(children=(FloatSlider(value=1.0, description='M', max=5.0, min=-3.0, step=0.5), Output()), _dom_cl…"
      ]
     },
     "metadata": {},
     "output_type": "display_data"
    }
   ],
   "source": [
    "from ipywidgets import interact\n",
    "\n",
    "from sympy import Heaviside, plot, Symbol\n",
    "\n",
    "t = Symbol('t')\n",
    "\n",
    "def f(M):\n",
    "    plot(M*Heaviside(t), (t, -1,5), line_color='red')\n",
    "\n",
    "interact(f, M=(-3, 5, 0.5), continuous_update=False);"
   ]
  },
  {
   "cell_type": "markdown",
   "id": "corresponding-diving",
   "metadata": {},
   "source": [
    "Esta función se define como:\n",
    "\n",
    "$$f (t) = \\left\\{\\begin{array}{ll}\n",
    "     0 & t < 0\\\\\n",
    "     M & t > 0\n",
    "   \\end{array}\\right.$$\n",
    "\n",
    "La transformada de Laplace de esta función es:\n",
    "\n",
    "$$\\mathcal{L} [f (t)] = \\frac{M}{s}$$\n",
    "\n",
    "Si $M$ es igual a 1 se habla de la función escalón unidad, $U(t)$, o de la función de Heaviside, $\\theta(t)$.\n",
    "\n",
    "Encontrar la transformada inversa de Laplace es muy sencillo utilizando *Sympy*:"
   ]
  },
  {
   "cell_type": "code",
   "execution_count": 2,
   "id": "mexican-oakland",
   "metadata": {},
   "outputs": [
    {
     "data": {
      "text/latex": [
       "$\\displaystyle \\frac{M}{s}$"
      ],
      "text/plain": [
       "M/s"
      ]
     },
     "execution_count": 2,
     "metadata": {},
     "output_type": "execute_result"
    }
   ],
   "source": [
    "# Cargamos las funciones necesarias para el ejemplo\n",
    "from sympy import Heaviside, laplace_transform, symbols\n",
    "\n",
    "# Definición de las variables que vamos a utilizar\n",
    "M, t, s = symbols('M t s')\n",
    "\n",
    "# Definimos un escalón unidad de altura M\n",
    "f = M*Heaviside(t)\n",
    "\n",
    "# Calculamos la trasnformada inversa de Laplace\n",
    "laplace_transform(f, t, s, noconds=True)"
   ]
  },
  {
   "cell_type": "markdown",
   "id": "extra-softball",
   "metadata": {},
   "source": [
    "En el cálculo anterior, se ha utilizado la función de ```Heaviside``` como función escalón unidad. También se puede realizar el cálculo definiendo la función escalón como una constante $M$ y asumiendo de manera implicita que ese valor es solo para $t > 0$:"
   ]
  },
  {
   "cell_type": "code",
   "execution_count": 3,
   "id": "engaged-moral",
   "metadata": {},
   "outputs": [
    {
     "data": {
      "text/latex": [
       "$\\displaystyle \\frac{M}{s}$"
      ],
      "text/plain": [
       "M/s"
      ]
     },
     "execution_count": 3,
     "metadata": {},
     "output_type": "execute_result"
    }
   ],
   "source": [
    "# Cargamos las funciones necesarias para el ejemplo\n",
    "from sympy import Heaviside, symbols\n",
    "\n",
    "# Definición de las variables que vamos a utilizar\n",
    "M, t, s = symbols('M t s')\n",
    "\n",
    "# Definimos un escalón unidad de altura M\n",
    "f = M\n",
    "\n",
    "# Calculamos la trasnformada inversa de Laplace\n",
    "laplace_transform(f, t, s, noconds=True)"
   ]
  },
  {
   "cell_type": "markdown",
   "id": "nuclear-template",
   "metadata": {},
   "source": [
    "Aunque la mayor parte de las veces las funciones de entrada sucende a tiempo 0, no es raro que aparezcan desplazadas en el tiempo, que sufran un retraso $t_0$.\n",
    "\n",
    "```{figure} ./img/0.png\n",
    "---\n",
    "figclass: margin\n",
    "align: left\n",
    "---\n",
    "Función pulso unidad retrasada en el tiempo un valor $t_0$.\n",
    "\n",
    "Se puede modificar el valor del retraso utilizando el deslizador.\n",
    "```"
   ]
  },
  {
   "cell_type": "code",
   "execution_count": 4,
   "id": "metallic-durham",
   "metadata": {
    "tags": [
     "hide-input",
     "interactive"
    ]
   },
   "outputs": [
    {
     "data": {
      "application/vnd.jupyter.widget-view+json": {
       "model_id": "5e830f9e888f443c92998bb31f304531",
       "version_major": 2,
       "version_minor": 0
      },
      "text/plain": [
       "FloatSlider(value=0.0, continuous_update=False, description='$t_0$', max=5.0, step=0.2)"
      ]
     },
     "metadata": {},
     "output_type": "display_data"
    },
    {
     "data": {
      "application/vnd.jupyter.widget-view+json": {
       "model_id": "d87fcbdbdc814440b2131abd14498e86",
       "version_major": 2,
       "version_minor": 0
      },
      "text/plain": [
       "Output()"
      ]
     },
     "metadata": {},
     "output_type": "display_data"
    }
   ],
   "source": [
    "from ipywidgets import FloatSlider, interactive_output\n",
    "\n",
    "from sympy import Heaviside, plot, Symbol\n",
    "\n",
    "t = Symbol('t')\n",
    "\n",
    "to = FloatSlider(value=0, min=0, max=5, step=.2, description=r\"$t_0$\", continuous_update=False)\n",
    "\n",
    "def f(to):\n",
    "    plot(Heaviside(t-to), (t, -1,5), line_color='red')\n",
    "\n",
    "display(to)\n",
    "interactive_output(f, {'to':to})"
   ]
  },
  {
   "cell_type": "markdown",
   "id": "critical-intranet",
   "metadata": {},
   "source": [
    "En el caso de que la función tenga un retraso $t_0$:\n",
    "\n",
    "$$f (t) = \\left\\{\\begin{array}{ll}\n",
    "     0 & t < t_0\\\\\n",
    "     M & t > t_0\n",
    "   \\end{array}\\right.$$\n",
    "\n",
    "O lo que es lo mismo:\n",
    "\n",
    "$$f (t - t_0) = \\left\\{\\begin{array}{ll}\n",
    "     0 & t < 0\\\\\n",
    "     M & t > 0\n",
    "   \\end{array}\\right.$$\n",
    "\n",
    "Por tanto, aplicando la propiedad de la transformada de Laplace, [translación de la transformada](transformada) (ecuación {eq}`translacion`), la transformada de Laplace será:\n",
    "\n",
    "$$\\mathcal{L} [f (t - t_0)] = \\frac{M}{s} \\mathrm{e}^{- s t_0}$$\n",
    "\n",
    "## Función pulso\n",
    "\n",
    "Se trata de una función pulso con área $A = M t_0$. A continuación, en la figura de la derecha se muestra un pulso de altura unidad, $M=1$. El pulso (línea roja) es la suma de un pulso unidad (línea verde) al que se le suma un pulso de altura -1 retrasado un tiempo igual a la anchura del pulso, es decir, $t_0$:\n",
    "\n",
    "```{figure} ./img/0.png\n",
    "---\n",
    "figclass: margin\n",
    "align: left\n",
    "---\n",
    "Un pulso, figura de la derecha, es la resta de dos funciones escalón de igual altura. El escalón negativo (azul) anula al escalón verde y forma el pulso.\n",
    "\n",
    "Se puede modificar la anchura del pulso $t_0$ utilizando el deslizador (solo cuando se visualiza el *notebook*).\n",
    "```"
   ]
  },
  {
   "cell_type": "code",
   "execution_count": 5,
   "id": "remarkable-newcastle",
   "metadata": {
    "tags": [
     "hide-input",
     "interactive"
    ]
   },
   "outputs": [
    {
     "data": {
      "application/vnd.jupyter.widget-view+json": {
       "model_id": "ea74076b7c3b440286eb5512be95930b",
       "version_major": 2,
       "version_minor": 0
      },
      "text/plain": [
       "interactive(children=(FloatSlider(value=2.0, description='to', max=5.0, step=0.5), Output()), _dom_classes=('w…"
      ]
     },
     "metadata": {},
     "output_type": "display_data"
    }
   ],
   "source": [
    "from ipywidgets import interact\n",
    "\n",
    "from sympy import Heaviside, plot, Symbol\n",
    "from sympy.plotting import PlotGrid\n",
    "\n",
    "t = Symbol('t')\n",
    "\n",
    "def f(to):\n",
    "    p1 = plot(Heaviside(t), -Heaviside(t-to), (t, -1,6), show=False)\n",
    "    p2 = plot(Heaviside(t)-Heaviside(t-to), (t, -1,6), line_color = 'red', show=False)\n",
    "    p1[0].line_color = 'green'\n",
    "    p1[1].line_color = 'blue'\n",
    "    PlotGrid(1, 2 , p1, p2, size=[12,4]);\n",
    "    \n",
    "interact(f, to=(0, 5, 0.5), continuous_update=False);"
   ]
  },
  {
   "cell_type": "markdown",
   "id": "dynamic-moses",
   "metadata": {},
   "source": [
    "La función pulso se define como:\n",
    "\n",
    "$$f (t) = \\left\\{\\begin{array}{cc}\n",
    "     0 & t < 0\\\\\n",
    "     M & 0 < t < t_0\\\\\n",
    "     0 & t > t_0\n",
    "   \\end{array}\\right.$$\n",
    "\n",
    "Utilizando la definición del escalón unidad también se puede escribir\n",
    "como:\n",
    "\n",
    "$$f (t) = M [U (t) - U (t - t_0)]$$\n",
    "\n",
    "Por tanto, la transformada de Laplace será:\n",
    "\n",
    "$$\\mathcal{L} [f (t)] = \\bar{f} (s) = M \\left( \\frac{1}{s} - \\frac{\\mathrm{e}^{-\n",
    "   s t_0}}{s} \\right) = \\frac{M}{s}  (1 - \\mathrm{e}^{- s t_0})$$\n",
    "\n",
    "## Función impulso\n",
    "\n",
    "Se trata de un pulso de área $A$ tal que $M \\rightarrow \\infty$ y\n",
    "$t_0 \\rightarrow 0$:\n",
    "\n",
    "```{figure} ./img/impulso.svg\n",
    "---\n",
    "width: 300px\n",
    "figclass: margin-caption\n",
    "---\n",
    "Función impulso de área $A$.\n",
    "```"
   ]
  },
  {
   "cell_type": "markdown",
   "id": "interpreted-pharmaceutical",
   "metadata": {},
   "source": [
    "La transformada de Laplace de esta función es:\n",
    "\n",
    "$$\\mathcal{L} [f (t)] = \\bar{f} (s) = A$$\n",
    "\n",
    "En el caso particular de que el área sea 1 se habla de la función delta\n",
    "de Dirac $\\delta (t)$.\n",
    "\n",
    "A continuación se calcula la transformada de Laplace de un impulso de altura A, $f(t) = A \\delta(t)$:"
   ]
  },
  {
   "cell_type": "code",
   "execution_count": 6,
   "id": "contained-branch",
   "metadata": {},
   "outputs": [
    {
     "data": {
      "text/latex": [
       "$\\displaystyle A \\left(1 - \\theta\\left(0\\right)\\right)$"
      ],
      "text/plain": [
       "A*(1 - Heaviside(0))"
      ]
     },
     "execution_count": 6,
     "metadata": {},
     "output_type": "execute_result"
    }
   ],
   "source": [
    "from sympy import laplace_transform, DiracDelta, symbols\n",
    "\n",
    "A, t, s = symbols('A t s')\n",
    "\n",
    "laplace_transform(A*DiracDelta(t), t, s, noconds=True)"
   ]
  },
  {
   "cell_type": "markdown",
   "id": "initial-holmes",
   "metadata": {},
   "source": [
    "Se puede comprobar fácilmente que el impulso es la derivada de la\n",
    "función escalón.\n",
    "\n",
    "```{admonition} Ejemplo\n",
    "En el Problema 3.4 se puede comprobar las diferencias y similitudes en\n",
    "la respuesta de un proceso a una entrada en escalón y en impulso.\n",
    "```\n",
    "\n",
    "## Función rampa\n",
    "\n",
    "Se trata de una función lineal de pendiente $M$:\n",
    "\n",
    "```{figure} ./img/0.png\n",
    "---\n",
    "figclass: margin\n",
    "align: left\n",
    "---\n",
    "Función rampa de pendiente $M$.\n",
    "\n",
    "Se puede modificar el valor de $M$ utilizando el deslizador (solo cuando se visualiza el *notebook*).\n",
    "```"
   ]
  },
  {
   "cell_type": "code",
   "execution_count": 7,
   "id": "innovative-occurrence",
   "metadata": {
    "tags": [
     "hide-input",
     "interactive"
    ]
   },
   "outputs": [
    {
     "data": {
      "application/vnd.jupyter.widget-view+json": {
       "model_id": "49ef995dce7941b08757d96d1919f37e",
       "version_major": 2,
       "version_minor": 0
      },
      "text/plain": [
       "interactive(children=(FloatSlider(value=1.0, description='M', max=5.0, min=-3.0, step=0.5), Output()), _dom_cl…"
      ]
     },
     "metadata": {},
     "output_type": "display_data"
    }
   ],
   "source": [
    "from ipywidgets import interact\n",
    "\n",
    "from sympy import Symbol, Heaviside\n",
    "\n",
    "M = Symbol('M')\n",
    "\n",
    "def f(M):\n",
    "    plot(M*t*Heaviside(t), (t, -1,5), line_color='red')\n",
    "\n",
    "interact(f, M=(-3, 5, 0.5), continuous_update=False);"
   ]
  },
  {
   "cell_type": "markdown",
   "id": "logical-jenny",
   "metadata": {},
   "source": [
    "Esta función se define como:\n",
    "\n",
    "$$f (t) = \\left\\{\\begin{array}{ll}\n",
    "     0 & t < 0\\\\\n",
    "     M t & t > 0\n",
    "   \\end{array}\\right. = M t U (t)$$\n",
    "\n",
    "La transformada de Laplace es:\n",
    "\n",
    "$$\\mathcal{L} [M t U (t)] = \\frac{M}{s^2}$$"
   ]
  },
  {
   "cell_type": "code",
   "execution_count": 8,
   "id": "fatal-focus",
   "metadata": {},
   "outputs": [
    {
     "data": {
      "text/latex": [
       "$\\displaystyle \\frac{A}{s^{2}}$"
      ],
      "text/plain": [
       "A/s**2"
      ]
     },
     "execution_count": 8,
     "metadata": {},
     "output_type": "execute_result"
    }
   ],
   "source": [
    "from sympy import laplace_transform, symbols\n",
    "\n",
    "M, t, s = symbols('A t s')\n",
    "\n",
    "laplace_transform(M*t, t, s, noconds=True)"
   ]
  },
  {
   "cell_type": "markdown",
   "id": "forced-reservation",
   "metadata": {},
   "source": [
    "## Funciones trigonométricas\n",
    "\n",
    "La función seno es:\n",
    "\n",
    "```{figure} ./img/0.png\n",
    "---\n",
    "figclass: margin\n",
    "align: left\n",
    "---\n",
    "Función seno de frecuencia $\\omega$.\n",
    "\n",
    "Se puede modificar el valor de $\\omega$ utilizando el deslizador (solo cuando se visualiza el *notebook*).\n",
    "```"
   ]
  },
  {
   "cell_type": "code",
   "execution_count": 9,
   "id": "dynamic-tampa",
   "metadata": {
    "tags": [
     "hide-input"
    ]
   },
   "outputs": [
    {
     "data": {
      "application/vnd.jupyter.widget-view+json": {
       "model_id": "5d25f2deda2f411cac6497d8fb1bd862",
       "version_major": 2,
       "version_minor": 0
      },
      "text/plain": [
       "interactive(children=(FloatSlider(value=1.0, description='w', max=5.0, min=-3.0, step=0.5), Output()), _dom_cl…"
      ]
     },
     "metadata": {},
     "output_type": "display_data"
    }
   ],
   "source": [
    "from ipywidgets import interact\n",
    "\n",
    "from sympy import Symbol, Heaviside, sin\n",
    "\n",
    "w = Symbol('omega')\n",
    "\n",
    "def f(w):\n",
    "    plot(sin(w*t)*Heaviside(t), (t, -1, 10), line_color='red', size=[8,4])\n",
    "\n",
    "interact(f, w=(-3, 5, 0.5), continuous_update=False);"
   ]
  },
  {
   "cell_type": "markdown",
   "id": "natural-context",
   "metadata": {},
   "source": [
    "Se define la función como:\n",
    "\n",
    "$$f (t) = \\left\\{\\begin{array}{cl}\n",
    "     0 & t < 0\\\\\n",
    "     M \\sin (\\omega t) & t > 0\n",
    "   \\end{array}\\right. = M U (t) \\sin (\\omega t)$$\n",
    "   \n",
    "donde $M$ es la amplitud y $\\omega$ es la frecuencia angular, expresada\n",
    "normalmente como rad/s.\n",
    "\n",
    "La transformada de Laplace de la función seno es:\n",
    "\n",
    "$$\\mathcal{L} [M \\sin (\\omega t)] = \\frac{M \\omega}{s^2 + \\omega^2}$$\n",
    "\n",
    "y la de la función coseno:\n",
    "\n",
    "$$\\mathcal{L} [M \\cos (\\omega t)] = \\frac{M s}{s^2 + \\omega^2}$$"
   ]
  },
  {
   "cell_type": "code",
   "execution_count": 10,
   "id": "copyrighted-ranch",
   "metadata": {},
   "outputs": [
    {
     "data": {
      "text/latex": [
       "$\\displaystyle \\frac{M \\omega}{\\omega^{2} + s^{2}}$"
      ],
      "text/plain": [
       "M*omega/(omega**2 + s**2)"
      ]
     },
     "execution_count": 10,
     "metadata": {},
     "output_type": "execute_result"
    }
   ],
   "source": [
    "from sympy import laplace_transform, symbols, sin\n",
    "\n",
    "M, w, t, s = symbols('M omega t s')\n",
    "\n",
    "laplace_transform(M*sin(w*t), t, s, noconds=True)"
   ]
  }
 ],
 "metadata": {
  "jupytext": {
   "formats": "ipynb,md:myst",
   "text_representation": {
    "extension": ".md",
    "format_name": "myst",
    "format_version": 0.12,
    "jupytext_version": "1.8.2"
   }
  },
  "kernelspec": {
   "display_name": "Python 3",
   "language": "python",
   "name": "python3"
  },
  "language_info": {
   "codemirror_mode": {
    "name": "ipython",
    "version": 3
   },
   "file_extension": ".py",
   "mimetype": "text/x-python",
   "name": "python",
   "nbconvert_exporter": "python",
   "pygments_lexer": "ipython3",
   "version": "3.8.5"
  },
  "source_map": [
   13,
   39,
   52,
   69,
   81,
   85,
   97,
   111,
   127,
   161,
   179,
   212,
   223,
   229,
   253,
   266,
   279,
   285,
   301,
   314,
   334
  ],
  "widgets": {
   "application/vnd.jupyter.widget-state+json": {
    "state": {
     "1dca425a2d36471ea8043c74a2d05b72": {
      "model_module": "@jupyter-widgets/base",
      "model_module_version": "1.2.0",
      "model_name": "LayoutModel",
      "state": {
       "_model_module": "@jupyter-widgets/base",
       "_model_module_version": "1.2.0",
       "_model_name": "LayoutModel",
       "_view_count": null,
       "_view_module": "@jupyter-widgets/base",
       "_view_module_version": "1.2.0",
       "_view_name": "LayoutView",
       "align_content": null,
       "align_items": null,
       "align_self": null,
       "border": null,
       "bottom": null,
       "display": null,
       "flex": null,
       "flex_flow": null,
       "grid_area": null,
       "grid_auto_columns": null,
       "grid_auto_flow": null,
       "grid_auto_rows": null,
       "grid_column": null,
       "grid_gap": null,
       "grid_row": null,
       "grid_template_areas": null,
       "grid_template_columns": null,
       "grid_template_rows": null,
       "height": null,
       "justify_content": null,
       "justify_items": null,
       "left": null,
       "margin": null,
       "max_height": null,
       "max_width": null,
       "min_height": null,
       "min_width": null,
       "object_fit": null,
       "object_position": null,
       "order": null,
       "overflow": null,
       "overflow_x": null,
       "overflow_y": null,
       "padding": null,
       "right": null,
       "top": null,
       "visibility": null,
       "width": null
      }
     },
     "2a656d6560304a598fedb9d91038359d": {
      "model_module": "@jupyter-widgets/base",
      "model_module_version": "1.2.0",
      "model_name": "LayoutModel",
      "state": {
       "_model_module": "@jupyter-widgets/base",
       "_model_module_version": "1.2.0",
       "_model_name": "LayoutModel",
       "_view_count": null,
       "_view_module": "@jupyter-widgets/base",
       "_view_module_version": "1.2.0",
       "_view_name": "LayoutView",
       "align_content": null,
       "align_items": null,
       "align_self": null,
       "border": null,
       "bottom": null,
       "display": null,
       "flex": null,
       "flex_flow": null,
       "grid_area": null,
       "grid_auto_columns": null,
       "grid_auto_flow": null,
       "grid_auto_rows": null,
       "grid_column": null,
       "grid_gap": null,
       "grid_row": null,
       "grid_template_areas": null,
       "grid_template_columns": null,
       "grid_template_rows": null,
       "height": null,
       "justify_content": null,
       "justify_items": null,
       "left": null,
       "margin": null,
       "max_height": null,
       "max_width": null,
       "min_height": null,
       "min_width": null,
       "object_fit": null,
       "object_position": null,
       "order": null,
       "overflow": null,
       "overflow_x": null,
       "overflow_y": null,
       "padding": null,
       "right": null,
       "top": null,
       "visibility": null,
       "width": null
      }
     },
     "36afdac402bd4c68953f08477277e780": {
      "model_module": "@jupyter-widgets/controls",
      "model_module_version": "1.5.0",
      "model_name": "SliderStyleModel",
      "state": {
       "_model_module": "@jupyter-widgets/controls",
       "_model_module_version": "1.5.0",
       "_model_name": "SliderStyleModel",
       "_view_count": null,
       "_view_module": "@jupyter-widgets/base",
       "_view_module_version": "1.2.0",
       "_view_name": "StyleView",
       "description_width": "",
       "handle_color": null
      }
     },
     "46a3388e4b284287895b7a75623b2684": {
      "model_module": "@jupyter-widgets/base",
      "model_module_version": "1.2.0",
      "model_name": "LayoutModel",
      "state": {
       "_model_module": "@jupyter-widgets/base",
       "_model_module_version": "1.2.0",
       "_model_name": "LayoutModel",
       "_view_count": null,
       "_view_module": "@jupyter-widgets/base",
       "_view_module_version": "1.2.0",
       "_view_name": "LayoutView",
       "align_content": null,
       "align_items": null,
       "align_self": null,
       "border": null,
       "bottom": null,
       "display": null,
       "flex": null,
       "flex_flow": null,
       "grid_area": null,
       "grid_auto_columns": null,
       "grid_auto_flow": null,
       "grid_auto_rows": null,
       "grid_column": null,
       "grid_gap": null,
       "grid_row": null,
       "grid_template_areas": null,
       "grid_template_columns": null,
       "grid_template_rows": null,
       "height": null,
       "justify_content": null,
       "justify_items": null,
       "left": null,
       "margin": null,
       "max_height": null,
       "max_width": null,
       "min_height": null,
       "min_width": null,
       "object_fit": null,
       "object_position": null,
       "order": null,
       "overflow": null,
       "overflow_x": null,
       "overflow_y": null,
       "padding": null,
       "right": null,
       "top": null,
       "visibility": null,
       "width": null
      }
     },
     "48405e568c9a48fdbf03df06157d1f60": {
      "model_module": "@jupyter-widgets/controls",
      "model_module_version": "1.5.0",
      "model_name": "SliderStyleModel",
      "state": {
       "_model_module": "@jupyter-widgets/controls",
       "_model_module_version": "1.5.0",
       "_model_name": "SliderStyleModel",
       "_view_count": null,
       "_view_module": "@jupyter-widgets/base",
       "_view_module_version": "1.2.0",
       "_view_name": "StyleView",
       "description_width": "",
       "handle_color": null
      }
     },
     "4951202cdefe483c8b1afacd40ae5c22": {
      "model_module": "@jupyter-widgets/base",
      "model_module_version": "1.2.0",
      "model_name": "LayoutModel",
      "state": {
       "_model_module": "@jupyter-widgets/base",
       "_model_module_version": "1.2.0",
       "_model_name": "LayoutModel",
       "_view_count": null,
       "_view_module": "@jupyter-widgets/base",
       "_view_module_version": "1.2.0",
       "_view_name": "LayoutView",
       "align_content": null,
       "align_items": null,
       "align_self": null,
       "border": null,
       "bottom": null,
       "display": null,
       "flex": null,
       "flex_flow": null,
       "grid_area": null,
       "grid_auto_columns": null,
       "grid_auto_flow": null,
       "grid_auto_rows": null,
       "grid_column": null,
       "grid_gap": null,
       "grid_row": null,
       "grid_template_areas": null,
       "grid_template_columns": null,
       "grid_template_rows": null,
       "height": null,
       "justify_content": null,
       "justify_items": null,
       "left": null,
       "margin": null,
       "max_height": null,
       "max_width": null,
       "min_height": null,
       "min_width": null,
       "object_fit": null,
       "object_position": null,
       "order": null,
       "overflow": null,
       "overflow_x": null,
       "overflow_y": null,
       "padding": null,
       "right": null,
       "top": null,
       "visibility": null,
       "width": null
      }
     },
     "49ef995dce7941b08757d96d1919f37e": {
      "model_module": "@jupyter-widgets/controls",
      "model_module_version": "1.5.0",
      "model_name": "VBoxModel",
      "state": {
       "_dom_classes": [
        "widget-interact"
       ],
       "_model_module": "@jupyter-widgets/controls",
       "_model_module_version": "1.5.0",
       "_model_name": "VBoxModel",
       "_view_count": null,
       "_view_module": "@jupyter-widgets/controls",
       "_view_module_version": "1.5.0",
       "_view_name": "VBoxView",
       "box_style": "",
       "children": [
        "IPY_MODEL_e1397ccbdb8c448caa2c34f486020501",
        "IPY_MODEL_624847d7729f4d66ae5aa6955b9813b6"
       ],
       "layout": "IPY_MODEL_cd95dbf4b1f248e888db02ada374d609"
      }
     },
     "4d8d91dff2d3440892568cff2e039b5e": {
      "model_module": "@jupyter-widgets/controls",
      "model_module_version": "1.5.0",
      "model_name": "FloatSliderModel",
      "state": {
       "_dom_classes": [],
       "_model_module": "@jupyter-widgets/controls",
       "_model_module_version": "1.5.0",
       "_model_name": "FloatSliderModel",
       "_view_count": null,
       "_view_module": "@jupyter-widgets/controls",
       "_view_module_version": "1.5.0",
       "_view_name": "FloatSliderView",
       "continuous_update": true,
       "description": "to",
       "description_tooltip": null,
       "disabled": false,
       "layout": "IPY_MODEL_5d72643bf78142e082f06f98b4ec1e66",
       "max": 5.0,
       "min": 0.0,
       "orientation": "horizontal",
       "readout": true,
       "readout_format": ".2f",
       "step": 0.5,
       "style": "IPY_MODEL_d4e8f1a4448c4fea93147d5000356347",
       "value": 2.0
      }
     },
     "52f7e7b8adeb4cf5a5755ea478ca7cae": {
      "model_module": "@jupyter-widgets/output",
      "model_module_version": "1.0.0",
      "model_name": "OutputModel",
      "state": {
       "_dom_classes": [],
       "_model_module": "@jupyter-widgets/output",
       "_model_module_version": "1.0.0",
       "_model_name": "OutputModel",
       "_view_count": null,
       "_view_module": "@jupyter-widgets/output",
       "_view_module_version": "1.0.0",
       "_view_name": "OutputView",
       "layout": "IPY_MODEL_5f3e6bbc568945fb923d4024d35607d8",
       "msg_id": "",
       "outputs": [
        {
         "data": {
          "image/png": "iVBORw0KGgoAAAANSUhEUgAAA1oAAAEeCAYAAACT9GTNAAAAOXRFWHRTb2Z0d2FyZQBNYXRwbG90bGliIHZlcnNpb24zLjMuNCwgaHR0cHM6Ly9tYXRwbG90bGliLm9yZy8QVMy6AAAACXBIWXMAAAsTAAALEwEAmpwYAAAtX0lEQVR4nO3dfXRU9b3v8c+GMSoIPgChk04sxMEQJoQIE8QnioWQGOkgD3WFtldsxDQYa+3xtgd7b289ruM12uVVboPNmSPLIlVyrh4xVUkkPGnlgGnApAejdI4Em4TIg4A8iE0Y9v1DMzXNM9mZney8X2tldfbev73nuzuSXz6zf/u3DdM0BQAAAACwzhC7CwAAAAAApyFoAQAAAIDFCFoAAAAAYDGCFgAAAABYjKAFAAAAABYjaAEAAACAxQhaAAAAAGAxghYAAAAAWMxl1xsbhhEr6QZJcZLOSNojqdI0zXN21QQAgBXo4wAAhmma0X1Dw7hZ0gpJV0h6V9IhSRdJulrSVZJekvSEaZonoloYAAC9RB8HAGhhR9D6laRfm6b5l3a2uSTNkzTUNM1/j2phAAD0En0cAKBF1INW5I0NY7xpmrVdrQMAYKChjwMA2DkZRnvf5r0U9SoAALAefRwADHJdTYZh+eWuDz74QO+9954SEhL08ssvR45/4sQJTZo0qU/esy9lZmaqrKzM7jIAwGmMHrTtN/1Gf+3j6KsAwHJd9lNRn3Vw7969eu2113T8+HG9+uqrkfUjRozQv/7rv0a7nF47cuSI3SUAAPqJ/trH0VcBQPR1dY9Wn33ztmPHDl133XV9dfio8fv9qqystLsMAHCaAXlFq0V/6+PoqwDAcl32U1G/R+uf//mfdezYsQ47oC1btui1116LclUAAPQefRwAoEXUhw5OnjxZ8+bN00UXXaSpU6dqzJgx+vzzzxUKhVRVVaU5c+bo5z//ebTLAgCg1+jjAAAtoh60XnrpJW3fvl2PP/64YmNj1djYqJEjR+r73/++gsGgLr744miXBACAJejjAAAtoh60du3apY8++kjPP/+8tm7d2mrbmTNn6IQAAAMWfRwAoEXUg1ZeXp4yMzO1b98++f3+yHrTNGUYhvbt2xftkgAAsAR9HACgRdQnw7jvvvv0/vvvKycnR/v27Yv81NbWWtIB5eTkKDY2VsnJye1uN01T9913n7xer1JSUrR79+7ItrKyMiUmJsrr9aqgoKDXtQAABpfe9nG96cMAAP1L1INWi9/85jd9ctw777yz04cylpaWKhQKKRQKKRgMavny5ZKkcDis/Px8lZaWqqamRuvWrVNNTU2f1AgAcLbz7ePOtw8DAPQ/UR862Ndmzpyp/fv3d7i9pKREd9xxhwzD0IwZM3T8+HE1NjZq//798nq9SkhIkCRlZ2erpKREkyZN6vT99n6yV7N+O8vCMwCAgWnbndvsLmHAO98+zO12d37gvXulWbMsrRV9ZNs2uysAYBHbrmjZpaGhQfHx8ZFlj8ejhoaGDte3JxgMyu/3y/09t840nenzmgEAkDruw9oTDAaVMWWK3hk5Umf/+tdolYjeOHlSSk+X3nvP7koAWMBxV7S6Yppmm3WGYXS4vj25ubnKzc3Vt9d9W1ve3sK3uACAqOhxX5WeLiUkyDVuHFdKBoKNG6WMDOnTT+2uBIAFBl3Q8ng8qquriyzX19crLi5OTU1N7a4HAKC/6KgPAwD0P4Nu6GAgENBzzz0n0zS1c+dOXXrppXK73UpLS1MoFFJtba2amppUXFysQCBgd7kAAER01IcBAPofx13RWrJkibZt26YjR47I4/Hon/7pn9Tc3Czpi+ebZGVlacOGDfJ6vRo2bJieffZZSZLL5VJhYaEyMjIUDoeVk5Mjn89n56kAAAaZ8+3DAAD9j9HeeO+v6HTjYPftdd/WlhVbdPqj03aXAgBO0/6NR+2jr+pIba2UkCD/uHGqrK21uxp0peUere3bpeuvt7saAJ3rsp8adEMHrdRFSAUAAAAwSBG0AAAAAMBiBC0AAAAAsBhBCwAAAAAsRtACAAAAAIsRtHrBZKIrAAAAAO0gaPVWTyYgBgAAADAoELQAAAAAwGIELQAAAACwGEELAAAAACxG0AIAAAAAixG0esE0mXUQAAAAQFsELQAAAACwGEELAAAAACxG0AIAwKkY4g4AtiFoAQAAAIDFCFoAAAAAYDGCVi+YYkgGAAAAgLYIWgAAAABgMccFrbKyMiUmJsrr9aqgoKDN9l/96ldKTU1VamqqkpOTNXToUB09elSSNG7cOE2ePFmpqany+/3RLh0AAACAQ7jsLsBK4XBY+fn5Ki8vl8fjUVpamgKBgCZNmhRp89Of/lQ//elPJUmvvvqqnnzySV1xxRWR7Vu3btXo0aOjXjsAAAAA53DUFa2Kigp5vV4lJCQoJiZG2dnZKikp6bD9unXrtGTJkihWCAAAAGAwcFTQamhoUHx8fGTZ4/GooaGh3bafffaZysrKtGjRosg6wzA0d+5cTZs2TcFgsMP3CQaD8vv9+o//+A+dbT5r3QkAAAAAcARHBS2znQczGobRbttXX31VN9xwQ6thg9u3b9fu3btVWlqqVatW6a233mp339zcXFVWVuq6666T6wJHjb4EAAAAYAFHBS2Px6O6urrIcn19veLi4tptW1xc3GbYYEvb2NhYLViwQBUVFV2+p6H2gxwAAACAwctRQSstLU2hUEi1tbVqampScXGxAoFAm3affvqp3nzzTc2fPz+y7vTp0zp58mTk9caNG5WcnBy12gEAAAA4h6PGvblcLhUWFiojI0PhcFg5OTny+XwqKiqSJOXl5UmS1q9fr7lz52r48OGRfQ8ePKgFCxZIks6ePavvfve7yszMjP5JAACAwa2dWyEADDxGe/c1fQX/0juR+btMvf0/39ap/afsLgUAnKYn47Lpqzqyb5901VXyjxunytpau6tBV8rLpblzpbfflm64we5qAHSuy37KUUMHAQAAAKA/IGj1gsmXqAAAAADaQdACAAAAAIsRtAAAAADAYgQtAAAAALAYQQsAAAAALEbQAgDAqXgeEwDYhqDVC108gwwAgB4pKytTYmKivF6vCgoK2mz/9NNP9e1vf1tTpkyRz+fTs88+a0OVAIDuIGgBANAPhMNh5efnq7S0VDU1NVq3bp1qampatVm1apUmTZqk6upqbdu2TQ888ICamppsqhgA0BmCFgAA/UBFRYW8Xq8SEhIUExOj7OxslZSUtGpjGIZOnjwp0zR16tQpXXHFFXK5XDZVDADoDEELAIB+oKGhQfHx8ZFlj8ejhoaGVm3uvfdevf/++4qLi9PkyZO1cuVKDRlCVw4A/RG/nQEA6Afau+/XMIxWy2+88YZSU1N14MABVVVV6d5779WJEyfaPV4wGNT8226TJJ08edLyegEAnSNoAQDQD3g8HtXV1UWW6+vrFRcX16rNs88+q4ULF8owDHm9Xo0fP14ffPBBu8fLzc1VySuvSJJGjBjRZ3UDANpH0OoFU8w6CACwRlpamkKhkGpra9XU1KTi4mIFAoFWba688kpt3rxZknTw4EHt3btXCQkJdpQLAOgCd9ACANAPuFwuFRYWKiMjQ+FwWDk5OfL5fCoqKpIk5eXl6Re/+IXuvPNOTZ48WaZp6rHHHtPo0aNtrhwA0B6CFgAA/URWVpaysrJarcvLy4u8jouL08aNG6NdFgDgPDB0EAAAAAAsRtACAAAAAIsRtHqhval4AQAAAMBxQausrEyJiYnyer0qKChos33btm269NJLlZqaqtTUVD388MPd3hcAAAAAusNRk2GEw2Hl5+ervLxcHo9HaWlpCgQCmjRpUqt2N910k1577bXz2hcAAAAAuuKoK1oVFRXyer1KSEhQTEyMsrOzVVJS0uf7AgAAAMBXOSpoNTQ0KD4+PrLs8XjU0NDQpt2OHTs0ZcoU3XLLLXrvvfd6tK8kBYNB+f1+VVRU6GzzWYvPAgAAAMBA56ig1d7kFIZhtFqeOnWqPvroI1VXV+tHP/qRbrvttm7v2yI3N1eVlZWaPn26XBc4avQlAAAAAAs4Kmh5PB7V1dVFluvr6xUXF9eqzciRI3XJJZdI+uLBkM3NzTpy5Ei39v17pph1EAAAAEBbjgpaaWlpCoVCqq2tVVNTk4qLixUIBFq1+fjjjyNXryoqKnTu3DmNGjWqW/u2x1D7V70AAAAADF6OGvfmcrlUWFiojIwMhcNh5eTkyOfzqaioSJKUl5enl156Sb/5zW/kcrl08cUXq7i4WIZhdLgvAAADFs97BADbGF08dJff0J2Y/dxsVfyvCp3cf9LuUgDAaXoyXIC+qiP/9V/ShAnyjx+vyn377K4GXSkvl+bOld5+W7rhBrurAdC5LvspRw0dBAAAAID+gKAFAADQnzDkE3AEglYvdDHsEgAAoPs6eKwMgIGJoAUAAAAAFiNoAQAAAIDFCFoAAAAAYDGCFgAAAABYjKAFAAAAABYjaPWCyTMyAQAAALSDoNVbzMQKAAAA4O8QtAAAAADAYgQtAAAAALAYQQsAAAAALEbQAgAAAACLEbR6wTSZdRAAAABAWwQtAAAAALAYQQsAAAAALEbQAgAAAACLOS5olZWVKTExUV6vVwUFBW22P//880pJSVFKSoquv/56VVdXR7aNGzdOkydPVmpqqvx+fzTLBgAAAOAgLrsLsFI4HFZ+fr7Ky8vl8XiUlpamQCCgSZMmRdqMHz9eb775pi6//HKVlpYqNzdX77zzTmT71q1bNXr0aDvKBwDAWkzaBAC2cdQVrYqKCnm9XiUkJCgmJkbZ2dkqKSlp1eb666/X5ZdfLkmaMWOG6uvrz/v9TNGBAQAAAGjLUUGroaFB8fHxkWWPx6OGhoYO269evVq33HJLZNkwDM2dO1fTpk1TMBjs01oBAAAAOJejhg6291wrwzDabbt161atXr1ab7/9dmTd9u3bFRcXp0OHDik9PV0TJ07UzJkz2+wbDAYVDAa19/q9am5utu4EAAAAADiCo65oeTwe1dXVRZbr6+sVFxfXpt2f/vQnLVu2TCUlJRo1alRkfUvb2NhYLViwQBUVFe2+T25uriorKzV16lRdcMEFFp8FAAAAgIHOUUErLS1NoVBItbW1ampqUnFxsQKBQKs2f/nLX7Rw4UKtXbtWV199dWT96dOndfLkycjrjRs3Kjk5Oar1AwAGt65mzpWkbdu2KTU1VT6fT9/85jejXCEAoLscNXTQ5XKpsLBQGRkZCofDysnJkc/nU1FRkSQpLy9PDz/8sD755BPdc889kX0qKyt18OBBLViwQJJ09uxZffe731VmZqZt5wIAGFy6M3Pu8ePHdc8996isrExXXnmlDh06ZGPFAIDOOCpoSVJWVpaysrJarcvLy4u8fuaZZ/TMM8+02S8hIaHVM7W6o717wgAAOB9fnTlXUmTm3K8GrRdeeEELFy7UlVdeKemLoe4AgP7JUUMH7WCo/ck2AADoie7MnPvnP/9Zx44d06xZszRt2jQ999xzHR4vGAxGRmqcPHGib4oGAHTIcVe0AAAYiLozc+7Zs2e1a9cubd68WWfOnNF1112nGTNmtLrnuEVubq5yb75ZuvpqjRg5ss/qBgC0j6AFAEA/0J2Zcz0ej0aPHq3hw4dr+PDhmjlzpqqrq9sNWgAAezF0EACAfqA7M+fOnz9ff/jDH3T27Fl99tlneuedd5SUlGRTxQCAznBFqxdMMRkGAMAa3Zk5NykpSZmZmUpJSdGQIUO0bNkyHkUCAP2U0cXMeSSJTtz07E2qfrhaJ2q5yRgALNaTmYboqzoSCklXXy3/+PGq3LfP7mrQlU2bpPR06Q9/kG680e5qAHSuy36KoYMAAAD9CY+PARyBoAUAANAfGDwyBnASghYAAAAAWIygBQAAAAAWI2j1QhcTiQAAAAAYpAhaAAAAAGAxghYAAE7FyAsAsA1BCwAAAAAsRtACAAAAAIsRtAAAAADAYgStXjDF2HcAAAAAbRG0AAAAAMBiBC0AAAAAsJjjglZZWZkSExPl9XpVUFDQZrtpmrrvvvvk9XqVkpKi3bt3d3tfAAAAAOgORwWtcDis/Px8lZaWqqamRuvWrVNNTU2rNqWlpQqFQgqFQgoGg1q+fHm39wUAAACA7nBU0KqoqJDX61VCQoJiYmKUnZ2tkpKSVm1KSkp0xx13yDAMzZgxQ8ePH1djY2O39gUAAACA7jDMzp8ab9m0epdNrLLqUB1qbm5Sc/NZDRs2TJLU1NSkcPisLr54WKTN6dOndOGFF8nlckmSTp06pYsvvkjnzp3rct+/99fwX2UeyNWMtOo+PCtYpaFBWrVKmjvX7koAdIPRg7ZMAduRP/9ZSkyUf/x4Ve7bZ3c16MrmzdKcOdJbb0k33WR3NQA612U/5epsY2Zmpo4cOWJJJSdqT2uI0ZN+s+dM05Rpmjo15IsLdedMU5KpsPG3C3fhc+d0bsiQyP8z4XPn9NmQIVI39m1x7su2kqTmj7Rrl78Pz8oezc3NuuCCC+wuw1KnT0uLFp1RYuLFdpdiucOHD2vMmDF2l2E5zmtgsfK8du3aVWaaZqYlBwMAwAadBq2ysjLL3sjv96uystKy47Vnx44deuihh/TGG29Ikh599FFJ0oMPPhhp88Mf/lCzZs3SkiVLJEmJiYnatm2z9u/f3+W+7Rk+fLhOnuzb87JDND6vaIuNlaQXVVn5HbtLsZwTPy+J8xpoLD4vQhYAYEBz1D1aaWlpCoVCqq2tVVNTk4qLixUIBFq1CQQCeu6552Sapnbu3KlLL71Ubre7W/sCAAAAQHd0ekVroHG5XCosLFRGRobC4bBycnLk8/lUVFQkScrLy1NWVpY2bNggr9erYcOG6dlnn+10XwAAAADoqagFrdzc3Ki8T1ZWlrKyslqty8vLi7w2DEOrVq3q9r5dGT16dM+LHACi9XlF26RJk+wuoU849fPivAYWp54XAADnI2qzDjqVU++1cKLYWGnxYunpp+2uBEA3MOugFZh1cGBh1kFgIOmyn3LUPVpAVzr/XgEAAACwRlSD1osvviifz6chQ4YM+KtAZWVlSkxM1J49e1RQUGB3OZbJyclRbGyskpOT7S7FMnV1dbr55pt19OgR/du/FWvlypV2l2SJzz//XNOnT9eUKVPk8/n0y1/+0u6SLBUOh3XNNddo3rx5dpdimXHjxmny5MlKTU2V3++cx0IcP35cixcv1sSJE5WUlKQdO3bYXRIAALaLatBKTk7Wyy+/rJkzZ0bzbS0XDoeVn5+v0tJS+Xw+rVu3TjU1NXaXZYk777zT0mn9+wOXy6UnnnhCo0aN1sKFC7Vq1SpHfF4XXnihtmzZourqalVVVamsrEw7d+60uyzLrFy5UklJSXaXYbmtW7eqqqpqwH/Z9FU//vGPlZmZqQ8++EDV1dWO/NwAAOipqAatpKQkJSYmRvMt+0RFRYW8Xq8SEhJkGIays7NVUlJid1mWmDlzpq644gq7y7CU2+3W1KlTJUkXXBCjpKQkNTQ02FxV7xmGoUsuuUTSFw+Ybm5ultHHDwWPlvr6er3++utatmyZ3aWgCydOnNBbb72lu+66S5IUExOjyy67zN6i8DeMlwYA23CP1nloaGhQfHx8ZNnj8TjiD/fB4OTJE3r33Xd17bXX2l2KJcLhsFJTUxUbG6v09HTHnNf999+vxx9/XEOGOOtXlGEYmjt3rqZNm6ZgMGh3OZbYt2+fxowZox/84Ae65pprtGzZMp0+fdrusgAAsJ3lf8XMmTNHycnJbX6ccsVHktqbqdEpVxKczDTP6Y03Nuqpp57SyJEj7S7HEkOHDlVVVZXq6+tVUVGhPXv22F1Sr7322muKjY3VtGnT7C7Fctu3b9fu3btVWlqqVatW6a233rK7pF47e/asdu/ereXLl+vdd9/V8OHDHXXfKgAA58vy52ht2rTJ6kP2Ox6PR3V1dZHl+vp6xcXF2VgRutLc3KxPPz2ladMmaOHCKXaXY7nLLrtMs2bNUllZ2YCfyGT79u36/e9/rw0bNujzzz/XiRMn9P3vf1+/+93v7C6t11p+T8TGxmrBggWqqKgY8PesejweeTyeyNXUxYsXE7QAABBDB89LWlqaQqGQamtrZZqmiouLFQgE7C4LHTBNU3fddZdcrqFKSXFOyDp8+LCOHz8uSTpz5ow2bdqkiRMn2luUBR599FHV19dr//79Ki4u1re+9S1HhKzTp0/r5MmTkdcbN24c8KFYkr72ta8pPj5ee/fulSRt3rzZsQ8GBwCgJ6IatNavXy+Px6MdO3bo1ltvVUZGRjTf3jIul0uFhYXKyMjQnj17dPvtt8vn89ldliWWLFmi6667Tnv37pXH49Hq1avtLqnXtm/frrVr16qpqUkvvfSiUlNTtWHDBrvL6rXGxkbdfPPNSklJUVpamtLT0x01FbrTHDx4UDfeeKOmTJmi6dOn69Zbb1VmZqbdZVni17/+tb73ve8pJSVFVVVV+vnPf253SQAA2M5o736jr2C6oi74/X5HTdPsZF/7mnTbbVJRkd2VAOiGntz4Sl/Vkb17pYkT5R8/XpX79tldDbqyebM0Z4705pvSAB9WDAwCXfZTDB0EAADoD5hYC3AUghYAAAAAWIygBQBAP1FWVqbExER5vd5OZ2/84x//qKFDh+qll16KYnUAgJ4gaGFQ6fyWRACwTzgcVn5+vkpLS1VTU6N169appqam3Xb/+I//OGAnlAKAwYKghUGDoe8A+rOKigp5vV4lJCQoJiZG2dnZKikpadPu17/+tRYtWqTY2FgbqgQAdBdBCwDQbxw/flxPP/203WXYoqGhQfHx8ZFlj8ejhoaGNm3Wr1+vvLy8aJcHAOghghYAoN8YzEGrvcetGH93Kf7+++/XY489pqFDh3Z5vGAwqEWLFklS5GHZAIDocdldAAAALVasWKEPP/xQhmFUSSo3TfOndtcULR6PR3V1dZHl+vp6xcXFtWpTWVmp7OxsSdKRI0e0YcMGuVwu3XbbbW2Ol5ubq9xvflOaOFEjRozo09oBAG055orW0aNHlZ6ergkTJig9PV3Hjh1r06aurk4333yzkpKS5PP5tHLlysi2hx56SF//+teVmpqq1NRUbdiwIZrlAwAkFRQU6KqrrpJpmqmDKWRJUlpamkKhkGpra9XU1KTi4mIFAoFWbWpra7V//37t379fixcv1tNPP91uyAIA2M8xQaugoECzZ89WKBTS7Nmz250W1+Vy6YknntD777+vnTt3atWqVa1mdPrJT36iqqoqVVVVKSsrK5rlI0qYdRBAf+VyuVRYWKiMjAwlJSXp9ttvl8/nU1FRkYqKiuwuDwDQQ44ZOlhSUqJt27ZJkpYuXapZs2bpsccea9XG7XbL7XZLkkaMGKGkpCQ1NDRo0qRJ0S4XNmDWQQD9XVZWVpsv+jqa+OK3v/1tFCoCAJwvx1zROnjwYCREud1uHTp0qNP2+/fv17vvvqtrr702sq6wsFApKSnKyclpd+hhi2AwKL/fL7/fr8OHD1tzAgAAjRgxgokbAACOMKCC1pw5c5ScnNzmp73njHTm1KlTWrRokZ566imNHDlSkrR8+XJ9+OGHqqqqktvt1gMPPNDh/rm5uaqsrFRlZaXGjBnTq3MCAPzNqFGjdMMNN8gwjD2GYfzK7noAADhfA2ro4KZNmzrcNnbsWDU2NsrtdquxsbHDBzk2Nzdr0aJF+t73vqeFCxe22r/F3XffrXnz5llXOACg21544QW98MILyXbX4QjcmAoAthlQV7Q6EwgEtGbNGknSmjVrNH/+/DZtTNPUXXfdpaSkJP3DP/xDq22NjY2R1+vXr1dyMn08AAAAgPPjmKC1YsUKlZeXa8KECSovL9eKFSskSQcOHIjcWLx9+3atXbtWW7ZsaTON+89+9jNNnjxZKSkp2rp1q5588knbzgUAAADAwDaghg52ZtSoUdq8eXOb9XFxcZEwdeONN8rsYBjF2rVr+7Q+9A+MogEAAEA0OOaKFtAVpncHAABAtBC0AAAAAMBiBC0AAAAAsBhBCwAAAAAsRtACAAAAAIsRtDCoMOsgAAAAooGghUGDWQcBAAAQLQQtAAAAALAYQQsAAAAALEbQAgAAAACLEbQAAAAAwGIELQAAAACwGEELgwrTuwMAACAaCFoYNJjeHQAAANFC0AIAAOhPGH4BOAJBCwAAoD9g6AXgKAQtAAAAALAYQQsAAKdiCBoA2IaghUGFvzkADEoMSQOAqHNM0Dp69KjS09M1YcIEpaen69ixY+22GzdunCZPnqzU1FT5/f4e74+Bi78zAAAAEC2OCVoFBQWaPXu2QqGQZs+erYKCgg7bbt26VVVVVaqsrDyv/QEAAACgM44JWiUlJVq6dKkkaenSpXrllVeiuj8AAAAAtHBM0Dp48KDcbrckye1269ChQ+22MwxDc+fO1bRp0xQMBnu8vyQFg0H5/X75/X4dPnzYwrMAAAAA4AQuuwvoiTlz5ujjjz9us/6RRx7p9jG2b9+uuLg4HTp0SOnp6Zo4caJmzpzZozpyc3OVm5srSa3u8wIAAAAAaYAFrU2bNnW4bezYsWpsbJTb7VZjY6NiY2PbbRcXFydJio2N1YIFC1RRUaGZM2d2e38AAAAA6Ipjhg4GAgGtWbNGkrRmzRrNnz+/TZvTp0/r5MmTkdcbN25UcnJyt/fHwMf07gAAAIgGxwStFStWqLy8XBMmTFB5eblWrFghSTpw4ICysrIkfXEf1o033qgpU6Zo+vTpuvXWW5WZmdnp/nAOpncHAABAtAyooYOdGTVqlDZv3txmfVxcnDZs2CBJSkhIUHV1dY/2BwAAAICecswVLQAAAADoLwhaAAAAAGAxghYAAP1EWVmZEhMT5fV6VVBQ0Gb7888/r5SUFKWkpOj666/vcDg8AMB+jrlHC+gOZh0E0F+Fw2Hl5+ervLxcHo9HaWlpCgQCmjRpUqTN+PHj9eabb+ryyy9XaWmpcnNz9c4779hYNQCgI1zRwqDBrIMA+rOKigp5vV4lJCQoJiZG2dnZKikpadXm+uuv1+WXXy5JmjFjhurr6+0oFQDQDQQtAAD6gYaGBsXHx0eWPR6PGhoaOmy/evVq3XLLLR1uDwaDWrx4sSTpxIkT1hUKAOgWhg4CANAPmO2MbTY6uBS/detWrV69Wm+//XaHx8vNzVXuTTdJkyZp5MiRltUJAOgeghYAAP2Ax+NRXV1dZLm+vl5xcXFt2v3pT3/SsmXLVFpaqlGjRkWzRABADzB0EACAfiAtLU2hUEi1tbVqampScXGxAoFAqzZ/+ctftHDhQq1du1ZXX321TZUCALqDK1oAAPQDLpdLhYWFysjIUDgcVk5Ojnw+n4qKiiRJeXl5evjhh/XJJ5/onnvuiexTWVnZ8UGZahUAbEPQwqDC3xwA+rOsrCxlZWW1WpeXlxd5/cwzz+iZZ56JdlkAgPPA0EEMGkzvDgAAgGghaAEAAACAxQhaAAAAAGAxghYAAAAAWIygBQAAAAAWI2gBAAAAgMUIWhhUmN4dAAAA0UDQwqDB9O4AgAGBbwUBR3BM0Dp69KjS09M1YcIEpaen69ixY23a7N27V6mpqZGfkSNH6qmnnpIkPfTQQ/r6178e2bZhw4YonwEAABjU+EYQcBTHBK2CggLNnj1boVBIs2fPVkFBQZs2iYmJqqqqUlVVlXbt2qVhw4ZpwYIFke0/+clPItuzsrKiWT4AAAAAB3FM0CopKdHSpUslSUuXLtUrr7zSafvNmzfrqquu0je+8Y0oVAcAAABgMHFM0Dp48KDcbrckye1269ChQ522Ly4u1pIlS1qtKywsVEpKinJyctodetgiGAzK7/fL7/fr8OHDvS8eAAAAgKMMqKA1Z84cJScnt/kpKSnp0XGampr0+9//Xt/5znci65YvX64PP/xQVVVVcrvdeuCBBzrcPzc3V5WVlaqsrNSYMWPO+3wQfdxfDAAAgGhw2V1AT2zatKnDbWPHjlVjY6PcbrcaGxsVGxvbYdvS0lJNnTpVY8eObbV/i7vvvlvz5s2zpmj0G9xjDAAAgGgZUFe0OhMIBLRmzRpJ0po1azR//vwO265bt67NsMHGxsbI6/Xr1ys5OblvCgUAAADgeI4JWitWrFB5ebkmTJig8vJyrVixQpJ04MCBVjMIfvbZZyovL9fChQtb7f+zn/1MkydPVkpKirZu3aonn3wyqvUDAAAAcI4BNXSwM6NGjdLmzZvbrI+Li2v1TKxhw4bpk08+adNu7dq1fVofAAAAgMHDMVe0AAAAAKC/IGgBAOBUTLUKALYhaGFQ4W8OAAAARANBC4MG07sDAAAgWghaAAAAAGAxghYAAAAAWIygBQAAAAAWI2gBAAAAgMUIWhhUmHUQAAAA0UDQwqDBrIMAAACIFoIWAAAAAFiMoAUAAAAAFiNoAQAAAIDFCFoAAAAAYDGCFgAAAABYjKCFQYXp3QEAABANBC0MGkzvDgAAgGghaAEAAACAxRwTtF588UX5fD4NGTJElZWVHbYrKytTYmKivF6vCgoKIuuPHj2q9PR0TZgwQenp6Tp27Fg0ygYAIKKjPqqFaZq677775PV6lZKSot27d9tQJQCgOxwTtJKTk/Xyyy9r5syZHbYJh8PKz89XaWmpampqtG7dOtXU1EiSCgoKNHv2bIVCIc2ePbvdDg4AgL7SWR/VorS0VKFQSKFQSMFgUMuXL7epWgBAVxwTtJKSkpSYmNhpm4qKCnm9XiUkJCgmJkbZ2dkqKSmRJJWUlGjp0qWSpKVLl+qVV17p65IBAIjorI9qUVJSojvuuEOGYWjGjBk6fvy4GhsbbaoYANAZl90FRFNDQ4Pi4+Mjyx6PR++8844k6eDBg3K73ZIkt9utQ4cO2VIj+o7PJ23fLs2aZXclgDNt22Z3BRaw8ReE9/Bh/d+jRyM1/ODgQZ08cUJ6441Im3v/8z91ZUWF9C//Ikn6t0OHdMm8edKIEe0f9MwZ6ZJLpKFD+7p8WGHECGnqVOmBBzr+TAGcvyh3VAMqaM2ZM0cff/xxm/WPPPKI5s+f3+X+ZjtzexvnMRVdMBhUMBiUJB0+fLjH+8Me69cTsgAnyszM1JEjRyw5VvOePbrgggssOVZPnT17VmfPntVFp059UcvZszoXDuvCEycibc6cOaOYvXs19Mvg9NmZM7rogw80ZEjbASrNzc1qbm6WJP153z75/f4onEV0HT58WGPGjLG7DEsdPnJEY44etbsMyzU3N9v2b6svcV4Dy+FvfMOy3xm7du0qM00zs7M2Aypobdq0qVf7ezwe1dXVRZbr6+sVFxcnSRo7dqwaGxvldrvV2Nio2NjYDo+Tm5ur3NxcSXJkx+VkjvjGHUArZWVllh3L7/d3OqFSX9qxY4ceeughvfHlFaxHH31UkvTggw9G2vzwhz/UrFmztGTJEklSYmKiXt+2LTIioyPDhw+37bz6kp2fV1/x+/2q/Ogju8uwnBM/K4nzGmgsPq9OQ5bkoHu0uiMtLU2hUEi1tbVqampScXGxAoGAJCkQCGjNmjWSpDVr1nTrChkAAFbprI9qEQgE9Nxzz8k0Te3cuVOXXnpplyELAGAPxwSt9evXy+PxaMeOHbr11luVkZEhSTpw4ICysrIkSS6XS4WFhcrIyFBSUpJuv/12+Xw+SdKKFStUXl6uCRMmqLy8XCtWrLDtXAAAg09HfVRRUZGKiookSVlZWUpISJDX69Xdd9+tp59+2uaqAQAdGVBDBzuzYMECLViwoM36uLg4bdiwIbKclZUVCV5fNWrUKG3evLlPawQA9G8tw8Lt0l4flZeXF3ltGIZWrVrV4+OOHj2617X1R3Z/Xn3BieckcV4DDedlDaO9CSK+otONcO4YVgCwWU9mKqKv6gJ9FQBYrst+yjFDBwEAAACgvyBoAQDwpRdffFE+n09DhgxxxBWgsrIyJSYmas+ePSooKLC7HEvk5OQoNjZWycnJdpdiqbq6Ot18881KSkqSz+fTypUr7S7JEp9//rmmT5+uKVOmyOfz6Ze//KXdJVkqHA7rmmuu0bx58+wuxTLjxo3T5MmTlZqa6qjZtY8fP67Fixdr4sSJSkpK0o4dO/r8PQlaAAB8KTk5WS+//LJmzpxpdym9Fg6HlZ+fr9LSUvl8Pq1bt041NTV2l9Vrd955p6VT+vcXLpdLTzzxhN5//33t3LlTq1atcsTndeGFF2rLli2qrq5WVVWVysrKtHPnTrvLsszKlSuVlJRkdxmW27p1q6qqqhzxhVOLH//4x8rMzNQHH3yg6urqqHxuBC0AAL6UlJSkxMREu8uwREVFhbxerxISEmQYhrKzs1VSUmJ3Wb02c+ZMXXHFFXaXYTm3262pU6dKkkaMGKGkpCQ1NDTYXFXvGYahSy65RNLfHqJtGD25BbP/qq+v1+uvv65ly5bZXQq6cOLECb311lu66667JEkxMTG67LLL+vx9CVoAADhQQ0OD4uPjI8sej8cRf7gPBvv379e7776ra6+91u5SLBEOh5WamqrY2Filp6c75rzuv/9+Pf744xoyxFl/ThuGoblz52ratGkKBoN2l2OJffv2acyYMfrBD36ga665RsuWLdPp06f7/H27mnUQXTAMo8w0zS6fDA0A6B8Mw9gk6WvtbPofpmmWfNlmm6T/bprmgB03YxjGdyRlmKa5zDCMMknPS5pumuaPbC6t1wzDGCfpNdM0nXWjliTDMC6R9KakR0zTfNnueqxkGMZlktZL+pFpmntsLqdXDMOYJynLNM17DMOYpS9+XzjiRi3DMOJM0zxgGEaspHJ98Xm9ZXddvWEYhl/STkk3mKb5jmEYKyWdME3zF335vo55jpZdCFkAMLCYpjnH7hqipF5SvPRFX2UYxoOSDthbEjpjGMYFkv5d0vNOC1mSZJrm8S+/xMiUNKCDlqQbJAUMw8iSdJGkkYZh/M40ze/bXFevmaZ54Mv/PWQYxnpJ0yUN6KClL34f1pum+c6Xyy9JWtHXb+qsa50AAKDFHyVNMAxjvGEYMZKyJf3e5prQAeOLG5dWS3rfNM3/Y3c9VjEMY8yXV7JkGMbFkuZI+sDWoixgmuaDpml6TNMcpy/+bW1xQsgyDGO4YRgjWl5LmquBH4plmubHkuoMw2i5CXe2pD6fbYagBQDAlwzDWGAYRr2k6yS9bhjGG3bXdL5M0zwr6V5Jb0h6X9L/M03zPXur6j3DMNZJ2iEp0TCMesMw7rK7JovcIOm/SfqWYRhVX/5k2V2UBdySthqG8Sd9Ef7LTdN8zeaa0LGxkt42DKNaUoWk103TdMo0nz+S9PyX/y2mSvrfff2G3KMFAAAAABbjihYAAAAAWIygBQAAAAAWI2gBAAAAgMUIWgAAAABgMYIWAAAAAFiMoAUAAAAA3WAYxmWGYdzTnbYELQAAAADonsskEbQAAAAAwEIFkq768qHiv+qsIQ8sBgAAAIBuMAxjnKTXTNNM7qotV7QAAAAAwGIELQAAAACwGEELAAAAALrnpKQR3WlI0AIAAACAbjBN8xNJ2w3D2MNkGAAAAAAQZVzRAgAAAACLEbQAAAAAwGIELQAAAACwGEELAAAAACxG0AIAAAAAixG0AAAAAMBiBC0AAAAAsBhBCwAAAAAs9v8BMQ+gjnNohTEAAAAASUVORK5CYII=\n",
          "text/plain": "<Figure size 864x288 with 2 Axes>"
         },
         "metadata": {
          "needs_background": "light"
         },
         "output_type": "display_data"
        }
       ]
      }
     },
     "5d25f2deda2f411cac6497d8fb1bd862": {
      "model_module": "@jupyter-widgets/controls",
      "model_module_version": "1.5.0",
      "model_name": "VBoxModel",
      "state": {
       "_dom_classes": [
        "widget-interact"
       ],
       "_model_module": "@jupyter-widgets/controls",
       "_model_module_version": "1.5.0",
       "_model_name": "VBoxModel",
       "_view_count": null,
       "_view_module": "@jupyter-widgets/controls",
       "_view_module_version": "1.5.0",
       "_view_name": "VBoxView",
       "box_style": "",
       "children": [
        "IPY_MODEL_6378685379a24dbb83a166cb537afd14",
        "IPY_MODEL_9ce7368b0c6d4b8c976ca6d68992fa6f"
       ],
       "layout": "IPY_MODEL_aa25a35581d641fd98c2cc9878becdf3"
      }
     },
     "5d72643bf78142e082f06f98b4ec1e66": {
      "model_module": "@jupyter-widgets/base",
      "model_module_version": "1.2.0",
      "model_name": "LayoutModel",
      "state": {
       "_model_module": "@jupyter-widgets/base",
       "_model_module_version": "1.2.0",
       "_model_name": "LayoutModel",
       "_view_count": null,
       "_view_module": "@jupyter-widgets/base",
       "_view_module_version": "1.2.0",
       "_view_name": "LayoutView",
       "align_content": null,
       "align_items": null,
       "align_self": null,
       "border": null,
       "bottom": null,
       "display": null,
       "flex": null,
       "flex_flow": null,
       "grid_area": null,
       "grid_auto_columns": null,
       "grid_auto_flow": null,
       "grid_auto_rows": null,
       "grid_column": null,
       "grid_gap": null,
       "grid_row": null,
       "grid_template_areas": null,
       "grid_template_columns": null,
       "grid_template_rows": null,
       "height": null,
       "justify_content": null,
       "justify_items": null,
       "left": null,
       "margin": null,
       "max_height": null,
       "max_width": null,
       "min_height": null,
       "min_width": null,
       "object_fit": null,
       "object_position": null,
       "order": null,
       "overflow": null,
       "overflow_x": null,
       "overflow_y": null,
       "padding": null,
       "right": null,
       "top": null,
       "visibility": null,
       "width": null
      }
     },
     "5e830f9e888f443c92998bb31f304531": {
      "model_module": "@jupyter-widgets/controls",
      "model_module_version": "1.5.0",
      "model_name": "FloatSliderModel",
      "state": {
       "_dom_classes": [],
       "_model_module": "@jupyter-widgets/controls",
       "_model_module_version": "1.5.0",
       "_model_name": "FloatSliderModel",
       "_view_count": null,
       "_view_module": "@jupyter-widgets/controls",
       "_view_module_version": "1.5.0",
       "_view_name": "FloatSliderView",
       "continuous_update": false,
       "description": "$t_0$",
       "description_tooltip": null,
       "disabled": false,
       "layout": "IPY_MODEL_4951202cdefe483c8b1afacd40ae5c22",
       "max": 5.0,
       "min": 0.0,
       "orientation": "horizontal",
       "readout": true,
       "readout_format": ".2f",
       "step": 0.2,
       "style": "IPY_MODEL_c7ba1e5ba1b64a028cd1d8b7fca96021",
       "value": 0.0
      }
     },
     "5f3e6bbc568945fb923d4024d35607d8": {
      "model_module": "@jupyter-widgets/base",
      "model_module_version": "1.2.0",
      "model_name": "LayoutModel",
      "state": {
       "_model_module": "@jupyter-widgets/base",
       "_model_module_version": "1.2.0",
       "_model_name": "LayoutModel",
       "_view_count": null,
       "_view_module": "@jupyter-widgets/base",
       "_view_module_version": "1.2.0",
       "_view_name": "LayoutView",
       "align_content": null,
       "align_items": null,
       "align_self": null,
       "border": null,
       "bottom": null,
       "display": null,
       "flex": null,
       "flex_flow": null,
       "grid_area": null,
       "grid_auto_columns": null,
       "grid_auto_flow": null,
       "grid_auto_rows": null,
       "grid_column": null,
       "grid_gap": null,
       "grid_row": null,
       "grid_template_areas": null,
       "grid_template_columns": null,
       "grid_template_rows": null,
       "height": null,
       "justify_content": null,
       "justify_items": null,
       "left": null,
       "margin": null,
       "max_height": null,
       "max_width": null,
       "min_height": null,
       "min_width": null,
       "object_fit": null,
       "object_position": null,
       "order": null,
       "overflow": null,
       "overflow_x": null,
       "overflow_y": null,
       "padding": null,
       "right": null,
       "top": null,
       "visibility": null,
       "width": null
      }
     },
     "624847d7729f4d66ae5aa6955b9813b6": {
      "model_module": "@jupyter-widgets/output",
      "model_module_version": "1.0.0",
      "model_name": "OutputModel",
      "state": {
       "_dom_classes": [],
       "_model_module": "@jupyter-widgets/output",
       "_model_module_version": "1.0.0",
       "_model_name": "OutputModel",
       "_view_count": null,
       "_view_module": "@jupyter-widgets/output",
       "_view_module_version": "1.0.0",
       "_view_name": "OutputView",
       "layout": "IPY_MODEL_ee257f58cf7a4a399cb10bd74c8f28aa",
       "msg_id": "",
       "outputs": [
        {
         "data": {
          "image/png": "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\n",
          "text/plain": "<Figure size 432x288 with 1 Axes>"
         },
         "metadata": {
          "needs_background": "light"
         },
         "output_type": "display_data"
        }
       ]
      }
     },
     "6378685379a24dbb83a166cb537afd14": {
      "model_module": "@jupyter-widgets/controls",
      "model_module_version": "1.5.0",
      "model_name": "FloatSliderModel",
      "state": {
       "_dom_classes": [],
       "_model_module": "@jupyter-widgets/controls",
       "_model_module_version": "1.5.0",
       "_model_name": "FloatSliderModel",
       "_view_count": null,
       "_view_module": "@jupyter-widgets/controls",
       "_view_module_version": "1.5.0",
       "_view_name": "FloatSliderView",
       "continuous_update": true,
       "description": "w",
       "description_tooltip": null,
       "disabled": false,
       "layout": "IPY_MODEL_ccfdab4f69ec424f91aee8f97c6ff0e4",
       "max": 5.0,
       "min": -3.0,
       "orientation": "horizontal",
       "readout": true,
       "readout_format": ".2f",
       "step": 0.5,
       "style": "IPY_MODEL_48405e568c9a48fdbf03df06157d1f60",
       "value": 1.0
      }
     },
     "75a99eb746fc4c6fbc5d1140f16896d7": {
      "model_module": "@jupyter-widgets/controls",
      "model_module_version": "1.5.0",
      "model_name": "SliderStyleModel",
      "state": {
       "_model_module": "@jupyter-widgets/controls",
       "_model_module_version": "1.5.0",
       "_model_name": "SliderStyleModel",
       "_view_count": null,
       "_view_module": "@jupyter-widgets/base",
       "_view_module_version": "1.2.0",
       "_view_name": "StyleView",
       "description_width": "",
       "handle_color": null
      }
     },
     "9ce7368b0c6d4b8c976ca6d68992fa6f": {
      "model_module": "@jupyter-widgets/output",
      "model_module_version": "1.0.0",
      "model_name": "OutputModel",
      "state": {
       "_dom_classes": [],
       "_model_module": "@jupyter-widgets/output",
       "_model_module_version": "1.0.0",
       "_model_name": "OutputModel",
       "_view_count": null,
       "_view_module": "@jupyter-widgets/output",
       "_view_module_version": "1.0.0",
       "_view_name": "OutputView",
       "layout": "IPY_MODEL_46a3388e4b284287895b7a75623b2684",
       "msg_id": "",
       "outputs": [
        {
         "data": {
          "image/png": "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\n",
          "text/plain": "<Figure size 576x288 with 1 Axes>"
         },
         "metadata": {
          "needs_background": "light"
         },
         "output_type": "display_data"
        }
       ]
      }
     },
     "aa25a35581d641fd98c2cc9878becdf3": {
      "model_module": "@jupyter-widgets/base",
      "model_module_version": "1.2.0",
      "model_name": "LayoutModel",
      "state": {
       "_model_module": "@jupyter-widgets/base",
       "_model_module_version": "1.2.0",
       "_model_name": "LayoutModel",
       "_view_count": null,
       "_view_module": "@jupyter-widgets/base",
       "_view_module_version": "1.2.0",
       "_view_name": "LayoutView",
       "align_content": null,
       "align_items": null,
       "align_self": null,
       "border": null,
       "bottom": null,
       "display": null,
       "flex": null,
       "flex_flow": null,
       "grid_area": null,
       "grid_auto_columns": null,
       "grid_auto_flow": null,
       "grid_auto_rows": null,
       "grid_column": null,
       "grid_gap": null,
       "grid_row": null,
       "grid_template_areas": null,
       "grid_template_columns": null,
       "grid_template_rows": null,
       "height": null,
       "justify_content": null,
       "justify_items": null,
       "left": null,
       "margin": null,
       "max_height": null,
       "max_width": null,
       "min_height": null,
       "min_width": null,
       "object_fit": null,
       "object_position": null,
       "order": null,
       "overflow": null,
       "overflow_x": null,
       "overflow_y": null,
       "padding": null,
       "right": null,
       "top": null,
       "visibility": null,
       "width": null
      }
     },
     "b109ec1e91214d589badf06eefccbaf6": {
      "model_module": "@jupyter-widgets/base",
      "model_module_version": "1.2.0",
      "model_name": "LayoutModel",
      "state": {
       "_model_module": "@jupyter-widgets/base",
       "_model_module_version": "1.2.0",
       "_model_name": "LayoutModel",
       "_view_count": null,
       "_view_module": "@jupyter-widgets/base",
       "_view_module_version": "1.2.0",
       "_view_name": "LayoutView",
       "align_content": null,
       "align_items": null,
       "align_self": null,
       "border": null,
       "bottom": null,
       "display": null,
       "flex": null,
       "flex_flow": null,
       "grid_area": null,
       "grid_auto_columns": null,
       "grid_auto_flow": null,
       "grid_auto_rows": null,
       "grid_column": null,
       "grid_gap": null,
       "grid_row": null,
       "grid_template_areas": null,
       "grid_template_columns": null,
       "grid_template_rows": null,
       "height": null,
       "justify_content": null,
       "justify_items": null,
       "left": null,
       "margin": null,
       "max_height": null,
       "max_width": null,
       "min_height": null,
       "min_width": null,
       "object_fit": null,
       "object_position": null,
       "order": null,
       "overflow": null,
       "overflow_x": null,
       "overflow_y": null,
       "padding": null,
       "right": null,
       "top": null,
       "visibility": null,
       "width": null
      }
     },
     "b5d6350f1d2141569b78748bdeeb4865": {
      "model_module": "@jupyter-widgets/controls",
      "model_module_version": "1.5.0",
      "model_name": "VBoxModel",
      "state": {
       "_dom_classes": [
        "widget-interact"
       ],
       "_model_module": "@jupyter-widgets/controls",
       "_model_module_version": "1.5.0",
       "_model_name": "VBoxModel",
       "_view_count": null,
       "_view_module": "@jupyter-widgets/controls",
       "_view_module_version": "1.5.0",
       "_view_name": "VBoxView",
       "box_style": "",
       "children": [
        "IPY_MODEL_cccab655d0704872b27a11252684c9b6",
        "IPY_MODEL_d80f7bdebbb14281a01740f34746905a"
       ],
       "layout": "IPY_MODEL_b6fe2a2793a84c759a3ccc46f67d20be"
      }
     },
     "b6fe2a2793a84c759a3ccc46f67d20be": {
      "model_module": "@jupyter-widgets/base",
      "model_module_version": "1.2.0",
      "model_name": "LayoutModel",
      "state": {
       "_model_module": "@jupyter-widgets/base",
       "_model_module_version": "1.2.0",
       "_model_name": "LayoutModel",
       "_view_count": null,
       "_view_module": "@jupyter-widgets/base",
       "_view_module_version": "1.2.0",
       "_view_name": "LayoutView",
       "align_content": null,
       "align_items": null,
       "align_self": null,
       "border": null,
       "bottom": null,
       "display": null,
       "flex": null,
       "flex_flow": null,
       "grid_area": null,
       "grid_auto_columns": null,
       "grid_auto_flow": null,
       "grid_auto_rows": null,
       "grid_column": null,
       "grid_gap": null,
       "grid_row": null,
       "grid_template_areas": null,
       "grid_template_columns": null,
       "grid_template_rows": null,
       "height": null,
       "justify_content": null,
       "justify_items": null,
       "left": null,
       "margin": null,
       "max_height": null,
       "max_width": null,
       "min_height": null,
       "min_width": null,
       "object_fit": null,
       "object_position": null,
       "order": null,
       "overflow": null,
       "overflow_x": null,
       "overflow_y": null,
       "padding": null,
       "right": null,
       "top": null,
       "visibility": null,
       "width": null
      }
     },
     "c7ba1e5ba1b64a028cd1d8b7fca96021": {
      "model_module": "@jupyter-widgets/controls",
      "model_module_version": "1.5.0",
      "model_name": "SliderStyleModel",
      "state": {
       "_model_module": "@jupyter-widgets/controls",
       "_model_module_version": "1.5.0",
       "_model_name": "SliderStyleModel",
       "_view_count": null,
       "_view_module": "@jupyter-widgets/base",
       "_view_module_version": "1.2.0",
       "_view_name": "StyleView",
       "description_width": "",
       "handle_color": null
      }
     },
     "cccab655d0704872b27a11252684c9b6": {
      "model_module": "@jupyter-widgets/controls",
      "model_module_version": "1.5.0",
      "model_name": "FloatSliderModel",
      "state": {
       "_dom_classes": [],
       "_model_module": "@jupyter-widgets/controls",
       "_model_module_version": "1.5.0",
       "_model_name": "FloatSliderModel",
       "_view_count": null,
       "_view_module": "@jupyter-widgets/controls",
       "_view_module_version": "1.5.0",
       "_view_name": "FloatSliderView",
       "continuous_update": true,
       "description": "M",
       "description_tooltip": null,
       "disabled": false,
       "layout": "IPY_MODEL_e3480257040b4703b328b0f809b25ed4",
       "max": 5.0,
       "min": -3.0,
       "orientation": "horizontal",
       "readout": true,
       "readout_format": ".2f",
       "step": 0.5,
       "style": "IPY_MODEL_36afdac402bd4c68953f08477277e780",
       "value": 1.0
      }
     },
     "ccfdab4f69ec424f91aee8f97c6ff0e4": {
      "model_module": "@jupyter-widgets/base",
      "model_module_version": "1.2.0",
      "model_name": "LayoutModel",
      "state": {
       "_model_module": "@jupyter-widgets/base",
       "_model_module_version": "1.2.0",
       "_model_name": "LayoutModel",
       "_view_count": null,
       "_view_module": "@jupyter-widgets/base",
       "_view_module_version": "1.2.0",
       "_view_name": "LayoutView",
       "align_content": null,
       "align_items": null,
       "align_self": null,
       "border": null,
       "bottom": null,
       "display": null,
       "flex": null,
       "flex_flow": null,
       "grid_area": null,
       "grid_auto_columns": null,
       "grid_auto_flow": null,
       "grid_auto_rows": null,
       "grid_column": null,
       "grid_gap": null,
       "grid_row": null,
       "grid_template_areas": null,
       "grid_template_columns": null,
       "grid_template_rows": null,
       "height": null,
       "justify_content": null,
       "justify_items": null,
       "left": null,
       "margin": null,
       "max_height": null,
       "max_width": null,
       "min_height": null,
       "min_width": null,
       "object_fit": null,
       "object_position": null,
       "order": null,
       "overflow": null,
       "overflow_x": null,
       "overflow_y": null,
       "padding": null,
       "right": null,
       "top": null,
       "visibility": null,
       "width": null
      }
     },
     "cd95dbf4b1f248e888db02ada374d609": {
      "model_module": "@jupyter-widgets/base",
      "model_module_version": "1.2.0",
      "model_name": "LayoutModel",
      "state": {
       "_model_module": "@jupyter-widgets/base",
       "_model_module_version": "1.2.0",
       "_model_name": "LayoutModel",
       "_view_count": null,
       "_view_module": "@jupyter-widgets/base",
       "_view_module_version": "1.2.0",
       "_view_name": "LayoutView",
       "align_content": null,
       "align_items": null,
       "align_self": null,
       "border": null,
       "bottom": null,
       "display": null,
       "flex": null,
       "flex_flow": null,
       "grid_area": null,
       "grid_auto_columns": null,
       "grid_auto_flow": null,
       "grid_auto_rows": null,
       "grid_column": null,
       "grid_gap": null,
       "grid_row": null,
       "grid_template_areas": null,
       "grid_template_columns": null,
       "grid_template_rows": null,
       "height": null,
       "justify_content": null,
       "justify_items": null,
       "left": null,
       "margin": null,
       "max_height": null,
       "max_width": null,
       "min_height": null,
       "min_width": null,
       "object_fit": null,
       "object_position": null,
       "order": null,
       "overflow": null,
       "overflow_x": null,
       "overflow_y": null,
       "padding": null,
       "right": null,
       "top": null,
       "visibility": null,
       "width": null
      }
     },
     "d4e8f1a4448c4fea93147d5000356347": {
      "model_module": "@jupyter-widgets/controls",
      "model_module_version": "1.5.0",
      "model_name": "SliderStyleModel",
      "state": {
       "_model_module": "@jupyter-widgets/controls",
       "_model_module_version": "1.5.0",
       "_model_name": "SliderStyleModel",
       "_view_count": null,
       "_view_module": "@jupyter-widgets/base",
       "_view_module_version": "1.2.0",
       "_view_name": "StyleView",
       "description_width": "",
       "handle_color": null
      }
     },
     "d80f7bdebbb14281a01740f34746905a": {
      "model_module": "@jupyter-widgets/output",
      "model_module_version": "1.0.0",
      "model_name": "OutputModel",
      "state": {
       "_dom_classes": [],
       "_model_module": "@jupyter-widgets/output",
       "_model_module_version": "1.0.0",
       "_model_name": "OutputModel",
       "_view_count": null,
       "_view_module": "@jupyter-widgets/output",
       "_view_module_version": "1.0.0",
       "_view_name": "OutputView",
       "layout": "IPY_MODEL_de79dadfb6f84020886339e02b079733",
       "msg_id": "",
       "outputs": [
        {
         "data": {
          "image/png": "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\n",
          "text/plain": "<Figure size 432x288 with 1 Axes>"
         },
         "metadata": {
          "needs_background": "light"
         },
         "output_type": "display_data"
        }
       ]
      }
     },
     "d87fcbdbdc814440b2131abd14498e86": {
      "model_module": "@jupyter-widgets/output",
      "model_module_version": "1.0.0",
      "model_name": "OutputModel",
      "state": {
       "_dom_classes": [],
       "_model_module": "@jupyter-widgets/output",
       "_model_module_version": "1.0.0",
       "_model_name": "OutputModel",
       "_view_count": null,
       "_view_module": "@jupyter-widgets/output",
       "_view_module_version": "1.0.0",
       "_view_name": "OutputView",
       "layout": "IPY_MODEL_1dca425a2d36471ea8043c74a2d05b72",
       "msg_id": "",
       "outputs": [
        {
         "data": {
          "image/png": "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\n",
          "text/plain": "<Figure size 432x288 with 1 Axes>"
         },
         "metadata": {
          "needs_background": "light"
         },
         "output_type": "display_data"
        }
       ]
      }
     },
     "de79dadfb6f84020886339e02b079733": {
      "model_module": "@jupyter-widgets/base",
      "model_module_version": "1.2.0",
      "model_name": "LayoutModel",
      "state": {
       "_model_module": "@jupyter-widgets/base",
       "_model_module_version": "1.2.0",
       "_model_name": "LayoutModel",
       "_view_count": null,
       "_view_module": "@jupyter-widgets/base",
       "_view_module_version": "1.2.0",
       "_view_name": "LayoutView",
       "align_content": null,
       "align_items": null,
       "align_self": null,
       "border": null,
       "bottom": null,
       "display": null,
       "flex": null,
       "flex_flow": null,
       "grid_area": null,
       "grid_auto_columns": null,
       "grid_auto_flow": null,
       "grid_auto_rows": null,
       "grid_column": null,
       "grid_gap": null,
       "grid_row": null,
       "grid_template_areas": null,
       "grid_template_columns": null,
       "grid_template_rows": null,
       "height": null,
       "justify_content": null,
       "justify_items": null,
       "left": null,
       "margin": null,
       "max_height": null,
       "max_width": null,
       "min_height": null,
       "min_width": null,
       "object_fit": null,
       "object_position": null,
       "order": null,
       "overflow": null,
       "overflow_x": null,
       "overflow_y": null,
       "padding": null,
       "right": null,
       "top": null,
       "visibility": null,
       "width": null
      }
     },
     "e1397ccbdb8c448caa2c34f486020501": {
      "model_module": "@jupyter-widgets/controls",
      "model_module_version": "1.5.0",
      "model_name": "FloatSliderModel",
      "state": {
       "_dom_classes": [],
       "_model_module": "@jupyter-widgets/controls",
       "_model_module_version": "1.5.0",
       "_model_name": "FloatSliderModel",
       "_view_count": null,
       "_view_module": "@jupyter-widgets/controls",
       "_view_module_version": "1.5.0",
       "_view_name": "FloatSliderView",
       "continuous_update": true,
       "description": "M",
       "description_tooltip": null,
       "disabled": false,
       "layout": "IPY_MODEL_b109ec1e91214d589badf06eefccbaf6",
       "max": 5.0,
       "min": -3.0,
       "orientation": "horizontal",
       "readout": true,
       "readout_format": ".2f",
       "step": 0.5,
       "style": "IPY_MODEL_75a99eb746fc4c6fbc5d1140f16896d7",
       "value": 1.0
      }
     },
     "e3480257040b4703b328b0f809b25ed4": {
      "model_module": "@jupyter-widgets/base",
      "model_module_version": "1.2.0",
      "model_name": "LayoutModel",
      "state": {
       "_model_module": "@jupyter-widgets/base",
       "_model_module_version": "1.2.0",
       "_model_name": "LayoutModel",
       "_view_count": null,
       "_view_module": "@jupyter-widgets/base",
       "_view_module_version": "1.2.0",
       "_view_name": "LayoutView",
       "align_content": null,
       "align_items": null,
       "align_self": null,
       "border": null,
       "bottom": null,
       "display": null,
       "flex": null,
       "flex_flow": null,
       "grid_area": null,
       "grid_auto_columns": null,
       "grid_auto_flow": null,
       "grid_auto_rows": null,
       "grid_column": null,
       "grid_gap": null,
       "grid_row": null,
       "grid_template_areas": null,
       "grid_template_columns": null,
       "grid_template_rows": null,
       "height": null,
       "justify_content": null,
       "justify_items": null,
       "left": null,
       "margin": null,
       "max_height": null,
       "max_width": null,
       "min_height": null,
       "min_width": null,
       "object_fit": null,
       "object_position": null,
       "order": null,
       "overflow": null,
       "overflow_x": null,
       "overflow_y": null,
       "padding": null,
       "right": null,
       "top": null,
       "visibility": null,
       "width": null
      }
     },
     "ea74076b7c3b440286eb5512be95930b": {
      "model_module": "@jupyter-widgets/controls",
      "model_module_version": "1.5.0",
      "model_name": "VBoxModel",
      "state": {
       "_dom_classes": [
        "widget-interact"
       ],
       "_model_module": "@jupyter-widgets/controls",
       "_model_module_version": "1.5.0",
       "_model_name": "VBoxModel",
       "_view_count": null,
       "_view_module": "@jupyter-widgets/controls",
       "_view_module_version": "1.5.0",
       "_view_name": "VBoxView",
       "box_style": "",
       "children": [
        "IPY_MODEL_4d8d91dff2d3440892568cff2e039b5e",
        "IPY_MODEL_52f7e7b8adeb4cf5a5755ea478ca7cae"
       ],
       "layout": "IPY_MODEL_2a656d6560304a598fedb9d91038359d"
      }
     },
     "ee257f58cf7a4a399cb10bd74c8f28aa": {
      "model_module": "@jupyter-widgets/base",
      "model_module_version": "1.2.0",
      "model_name": "LayoutModel",
      "state": {
       "_model_module": "@jupyter-widgets/base",
       "_model_module_version": "1.2.0",
       "_model_name": "LayoutModel",
       "_view_count": null,
       "_view_module": "@jupyter-widgets/base",
       "_view_module_version": "1.2.0",
       "_view_name": "LayoutView",
       "align_content": null,
       "align_items": null,
       "align_self": null,
       "border": null,
       "bottom": null,
       "display": null,
       "flex": null,
       "flex_flow": null,
       "grid_area": null,
       "grid_auto_columns": null,
       "grid_auto_flow": null,
       "grid_auto_rows": null,
       "grid_column": null,
       "grid_gap": null,
       "grid_row": null,
       "grid_template_areas": null,
       "grid_template_columns": null,
       "grid_template_rows": null,
       "height": null,
       "justify_content": null,
       "justify_items": null,
       "left": null,
       "margin": null,
       "max_height": null,
       "max_width": null,
       "min_height": null,
       "min_width": null,
       "object_fit": null,
       "object_position": null,
       "order": null,
       "overflow": null,
       "overflow_x": null,
       "overflow_y": null,
       "padding": null,
       "right": null,
       "top": null,
       "visibility": null,
       "width": null
      }
     }
    },
    "version_major": 2,
    "version_minor": 0
   }
  }
 },
 "nbformat": 4,
 "nbformat_minor": 5
}