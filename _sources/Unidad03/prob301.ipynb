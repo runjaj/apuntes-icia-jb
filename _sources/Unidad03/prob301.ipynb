{
 "cells": [
  {
   "cell_type": "markdown",
   "id": "broke-noise",
   "metadata": {},
   "source": [
    "(prob301)=\n",
    "# Problema 3.1\n",
    "\n",
    "Hallar la transformada de Laplace de las siguientes funciones:\n",
    "\n",
    "1.  $f (t) = \\mathrm{e}^{- 2 t} \\cos (t)$\n",
    "\n",
    "2.  $f (t) = \\mathrm{e}^{- 4 t} + \\theta(t-2) \\sin (t - 2) + t^2 \\mathrm{e}^{- 2 t}$\n",
    "\n",
    "3.  $f (t) = 2 \\mathrm{e}^{- t} \\cos (10 t) - t^4 + 6 \\mathrm{e}^{- (t - 10)} \\theta(t-10)$\n",
    "\n",
    "---\n",
    "\n",
    "**Solución**\n",
    "\n",
    "a\\) Aplicando la propiedad *4. Traslación de la transformada*:\n",
    "\n",
    "$$\\mathcal{L} (\\mathrm{e}^{- 2 t} \\cos t) = \\frac{s + 2}{s^2 + 4 s + 5}$$\n",
    "\n",
    "También se puede realizar la transformada de Laplace utilizando *Sympy*. En primer lugar cargamos la librería:"
   ]
  },
  {
   "cell_type": "code",
   "execution_count": 1,
   "id": "crazy-interim",
   "metadata": {},
   "outputs": [],
   "source": [
    "using SymPy"
   ]
  },
  {
   "cell_type": "markdown",
   "id": "electric-office",
   "metadata": {},
   "source": [
    "A continuación definimos las variables $s$ y $t$. Las definimos por separado para indicar que $t$ es una variable real, mientras que $s$ es una variable compleja:"
   ]
  },
  {
   "cell_type": "code",
   "execution_count": 2,
   "id": "obvious-performance",
   "metadata": {},
   "outputs": [
    {
     "data": {
      "text/latex": [
       "$\\begin{equation*}t\\end{equation*}$\n"
      ],
      "text/plain": [
       "t"
      ]
     },
     "execution_count": 2,
     "metadata": {},
     "output_type": "execute_result"
    }
   ],
   "source": [
    "s = symbols(\"s\")\n",
    "t = symbols(\"t\", real=True)"
   ]
  },
  {
   "cell_type": "markdown",
   "id": "parliamentary-moore",
   "metadata": {},
   "source": [
    "Finalmente calculamos la transformada de Laplace:"
   ]
  },
  {
   "cell_type": "code",
   "execution_count": 3,
   "id": "worthy-smooth",
   "metadata": {},
   "outputs": [
    {
     "data": {
      "text/plain": [
       "((s + 2)/((s + 2)^2 + 1), -2, True)"
      ]
     },
     "execution_count": 3,
     "metadata": {},
     "output_type": "execute_result"
    }
   ],
   "source": [
    "sympy.laplace_transform(exp(-2*t)*cos(t), t, s)"
   ]
  },
  {
   "cell_type": "markdown",
   "id": "integrated-merchandise",
   "metadata": {},
   "source": [
    "Sympy ofrece más información de la que necesitamos, ya que solo necesitamos la función transformada. Podemos obtenerla añadiendo el parámetro `noconds`:"
   ]
  },
  {
   "cell_type": "code",
   "execution_count": 4,
   "id": "analyzed-employee",
   "metadata": {},
   "outputs": [
    {
     "data": {
      "text/latex": [
       "$\\begin{equation*}\\frac{s + 2}{\\left(s + 2\\right)^{2} + 1}\\end{equation*}$\n"
      ],
      "text/plain": [
       "   s + 2    \n",
       "────────────\n",
       "       2    \n",
       "(s + 2)  + 1"
      ]
     },
     "execution_count": 4,
     "metadata": {},
     "output_type": "execute_result"
    }
   ],
   "source": [
    "sympy.laplace_transform(exp(-2*t)*cos(t), t, s, noconds=True)"
   ]
  },
  {
   "cell_type": "markdown",
   "id": "exact-enclosure",
   "metadata": {},
   "source": [
    "Puede ser conveniente definir un función para simplificar la realización de la transformada de Laplace, ya que siempre vamos a utilizar las variables $s$ y $t$:"
   ]
  },
  {
   "cell_type": "code",
   "execution_count": 5,
   "id": "australian-knock",
   "metadata": {},
   "outputs": [
    {
     "data": {
      "text/latex": [
       "$\\begin{equation*}\\frac{s + 2}{\\left(s + 2\\right)^{2} + 1}\\end{equation*}$\n"
      ],
      "text/plain": [
       "   s + 2    \n",
       "────────────\n",
       "       2    \n",
       "(s + 2)  + 1"
      ]
     },
     "execution_count": 5,
     "metadata": {},
     "output_type": "execute_result"
    }
   ],
   "source": [
    "L(f) = sympy.laplace_transform(f, t, s, noconds=True)\n",
    "\n",
    "L(exp(-2*t)*cos(t))"
   ]
  },
  {
   "cell_type": "markdown",
   "id": "palestinian-detector",
   "metadata": {},
   "source": [
    "b) El operador transformada de Laplace es lineal:\n",
    "\n",
    "$$\\mathcal{L} (\\mathrm{e}^{- 4 t} + \\sin (t - 2) + t^2 \\mathrm{e}^{- 2 t})\n",
    "   =\\mathcal{L} (\\mathrm{e}^{- 4 t}) +\\mathcal{L} (\\sin (t - 2))\n",
    "   +\\mathcal{L} (t^2 \\mathrm{e}^{- 2 t})$$ \n",
    "\n",
    "La trasnformada de Laplace del primer sumando es directa a partir de las tablas:\n",
    "\n",
    "$$\\mathcal{L} [\\mathrm{e}^{- 4 t}] = \\frac{1}{s + 4}$$ \n",
    "\n",
    "Para calcular el segundo de los sumandos es necesario aplicar, de nuevo, la propiedad 4.:\n",
    "\n",
    "$$\\mathcal{L} [\\sin (t - 2)] = \\mathrm{e}^{- 2 s} \\mathcal{L} [\\sin\n",
    "   (t)] = \\mathrm{e}^{- 2 s}  \\frac{1}{s^2 + 1}$$ \n",
    "   \n",
    "Por último, el tercer\n",
    "sumando se obtiene de la consulta de las tablas:\n",
    "\n",
    "$$\\mathcal{L} [t^2 \\mathrm{e}^{- 2 t}] = \\frac{2!}{(s + 2)^{2 + 1}} = \\frac{2}{(s\n",
    "   + 2)^3}$$\n",
    "   \n",
    "Por tanto,\n",
    "\n",
    "$$\\bar{f} (s) = \\frac{1}{s + 4} + \\mathrm{e}^{- 2 s} \\frac{1}{s^2 + 1} +\n",
    "   \\frac{2}{(s + 2)^3}$$\n",
    "   \n",
    "Con Sympy obtenemos el mismo resultado:"
   ]
  },
  {
   "cell_type": "code",
   "execution_count": 6,
   "id": "expected-defendant",
   "metadata": {},
   "outputs": [
    {
     "data": {
      "text/latex": [
       "$\\begin{equation*}\\mathcal{L}_{t}\\left[\\sin{\\left(t - 2 \\right)} \\theta\\left(t - 2\\right)\\right]\\left(s\\right) + \\frac{1}{s + 4} + \\frac{2}{\\left(s + 2\\right)^{3}}\\end{equation*}$\n"
      ],
      "text/plain": [
       "                                                1        2    \n",
       "LaplaceTransform(sin(t - 2)⋅θ(t - 2), t, s) + ───── + ────────\n",
       "                                              s + 4          3\n",
       "                                                      (s + 2) "
      ]
     },
     "execution_count": 6,
     "metadata": {},
     "output_type": "execute_result"
    }
   ],
   "source": [
    "L(exp(-4*t) + sin(t-2)*Heaviside(t-2) + t^2*exp(-2*t))"
   ]
  },
  {
   "cell_type": "markdown",
   "id": "respective-insured",
   "metadata": {},
   "source": [
    "Nos encontramos que hemos logrado resolver 2/3 del problema, pero hay una parte que *Sympy* es incapaz de resolver, por lo que tenemos que ayudarle. Esta es una valiosa lección, ¡los ordenadores y los programas de cálculo simbólico no sustituyen el saber matemáticas!\n",
    "\n",
    "Para realizar la transformada de Laplace de la parte que falta, $\\sin(t-2) \\theta(t-2)$, debemos recordar que la transformada de Laplace no es más que una integral, por lo que podremos utilizar las técnicas que conocemos de integración. Lo que vamos es a realizar un cambio de variable:\n",
    "\n",
    "$$u = t-2$$\n",
    "\n",
    "Por lo tanto:\n",
    "\n",
    "$$du = dt$$\n",
    "\n",
    "Sustituyendo y aplicando la definición de la transformada de Laplace:\n",
    "\n",
    "$$L\\left(\\sin(t-2) \\theta(t-2)\\right)= \\int_0^\\infty\\sin(t-2) \\theta(t-2) \\mathrm{e}^{-s t} \\mathrm{d}t =  \\int_0^\\infty\\sin(u) \\theta(u) \\mathrm{e}^{-s (u+2)} \\mathrm{d}u$$\n",
    "\n",
    "Podemos calcular esta integral directamente:"
   ]
  },
  {
   "cell_type": "code",
   "execution_count": 7,
   "id": "provincial-shark",
   "metadata": {},
   "outputs": [
    {
     "data": {
      "text/latex": [
       "$\\begin{equation*}\\begin{cases} \\frac{e^{- 2 s}}{s^{2} + 1} & \\text{for}\\: 2 \\left|{\\arg{\\left(s \\right)}}\\right| < \\pi \\\\\\int\\limits_{0}^{\\infty} e^{- s \\left(u + 2\\right)} \\sin{\\left(u \\right)} \\theta\\left(u\\right)\\, du & \\text{otherwise} \\end{cases}\\end{equation*}$\n"
      ],
      "text/plain": [
       "⎧            -2⋅s                                \n",
       "⎪           ℯ                                    \n",
       "⎪           ──────             for 2⋅│arg(s)│ < π\n",
       "⎪            2                                   \n",
       "⎪           s  + 1                               \n",
       "⎪                                                \n",
       "⎨∞                                               \n",
       "⎪⌠                                               \n",
       "⎪⎮  -s⋅(u + 2)                                   \n",
       "⎪⎮ ℯ          ⋅sin(u)⋅θ(u) du      otherwise     \n",
       "⎪⌡                                               \n",
       "⎪0                                               \n",
       "⎩                                                "
      ]
     },
     "execution_count": 7,
     "metadata": {},
     "output_type": "execute_result"
    }
   ],
   "source": [
    "u = symbols(\"u\", real=True)\n",
    "integrate(sin(u)*Heaviside(u)*exp(-s*(u+2)),(u, 0, oo))"
   ]
  },
  {
   "cell_type": "markdown",
   "id": "internal-somerset",
   "metadata": {},
   "source": [
    "   c) De nuevo, aplicando la linealidad del\n",
    "operador transformada: \n",
    "\n",
    "$$\\begin{aligned}\n",
    "  & \\mathcal{L} [2 \\mathrm{e}^{- t} \\cos (10 t)] = 2 \\frac{s + 1}{(s + 1)^2 +\n",
    "  10^2} & \\\\\n",
    "  & \\mathcal{L} [t^4] = \\frac{4!}{s^5} = \\frac{24}{s^5} & \\\\\n",
    "  & \\mathcal{L} [6 \\mathrm{e}^{- (t - 10)}] = 6 \\mathrm{e}^{- 10 s}  \\frac{1}{s + 1}\n",
    "  & \\end{aligned}$$ \n",
    "  \n",
    "Por tanto,\n",
    "\n",
    "$$\\bar{f} (s) = 2 \\frac{s + 1}{(s + 1)^2 + 10^2} - \\frac{24}{s^5} + 6\n",
    "   \\mathrm{e}^{- 10 s}  \\frac{1}{s + 1}$$\n",
    "   \n",
    "Utilizando Sympy:"
   ]
  },
  {
   "cell_type": "code",
   "execution_count": 8,
   "id": "wound-winner",
   "metadata": {},
   "outputs": [
    {
     "data": {
      "text/latex": [
       "$\\begin{equation*}\\frac{2 \\left(s + 1\\right)}{\\left(s + 1\\right)^{2} + 100} + \\frac{6 e^{- 10 s}}{s - 1} - \\frac{24}{s^{5}}\\end{equation*}$\n"
      ],
      "text/plain": [
       "                    -10⋅s     \n",
       "  2⋅(s + 1)      6⋅ℯ        24\n",
       "────────────── + ──────── - ──\n",
       "       2          s - 1      5\n",
       "(s + 1)  + 100              s "
      ]
     },
     "execution_count": 8,
     "metadata": {},
     "output_type": "execute_result"
    }
   ],
   "source": [
    "L(2*exp(-t)*cos(10*t)) - L(t^4) + L(6*exp(t-10)*Heaviside(t-10))"
   ]
  }
 ],
 "metadata": {
  "@webio": {
   "lastCommId": null,
   "lastKernelId": null
  },
  "kernelspec": {
   "display_name": "Julia 1.6.0",
   "language": "julia",
   "name": "julia-1.6"
  },
  "language_info": {
   "file_extension": ".jl",
   "mimetype": "application/julia",
   "name": "julia",
   "version": "1.6.0"
  }
 },
 "nbformat": 4,
 "nbformat_minor": 5
}
