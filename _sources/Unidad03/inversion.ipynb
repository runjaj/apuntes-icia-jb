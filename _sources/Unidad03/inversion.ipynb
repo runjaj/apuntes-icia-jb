{
 "cells": [
  {
   "cell_type": "markdown",
   "id": "surrounded-terror",
   "metadata": {},
   "source": [
    "# Inversión de transformadas. De vuelta al tiempo real\n",
    "\n",
    "Continuando con el ejemplo se estudiará la salida del sistema para una\n",
    "entrada de tipo escalón unidad:\n",
    "\n",
    "$$\\bar{H} (s) = \\left[ \\frac{R}{R A s + 1} \\right]  \\overline{Q_1} (s) =\n",
    "   \\left[ \\frac{R}{R A s + 1} \\right]  \\frac{1}{s}$$\n",
    "\n",
    "Mediante el operador transformada inversa de Laplace\n",
    "($\\mathcal{L}^{- 1}$) se obtiene la salida en tiempo real. Para ello hay\n",
    "que descomponer la función a invertir en partes asimilables a las que se\n",
    "encuentran en las tablas de transformadas de Laplace (apartado\n",
    "{ref}`transformadas`):\n",
    "\n",
    "$$\\bar{H} (s) = \\left[ \\frac{R}{R A s + 1} \\right]  \\frac{1}{s} = \\frac{a}{s}\n",
    "   + \\frac{b}{s + \\frac{1}{A R}}$$\n",
    "\n",
    "Donde $a$ y $b$ son dos variables a\n",
    "determinar. Obviamente, $a =\n",
    "R$ y $b = - R$. Por tanto,\n",
    "\n",
    "$$H (t) = \\left[ R - R \\mathrm{e}^{- \\frac{t}{R A}} \\right] U (t) = R U (t)\n",
    "   \\left[ 1 - \\mathrm{e}^{- \\frac{t}{R A}} \\right] = R U (t)  \\left[ 1 - \\mathrm{e}^{-\n",
    "   \\frac{t}{\\tau}} \\right]$$\n",
    "   \n",
    "donde $\\tau = R A$ es la constante de\n",
    "tiempo y tiene dimensiones de tiempo.\n",
    "\n",
    "Tamibén se puede realizar la transformada inversa de Laplace de una manera muy simple utilizando *Sympy*:"
   ]
  },
  {
   "cell_type": "code",
   "execution_count": 1,
   "id": "agreed-treasury",
   "metadata": {},
   "outputs": [
    {
     "data": {
      "text/latex": [
       "$\\displaystyle R \\theta\\left(t\\right) - R e^{- \\frac{t}{A R}} \\theta\\left(t\\right)$"
      ],
      "text/plain": [
       "R*Heaviside(t) - R*exp(-t/(A*R))*Heaviside(t)"
      ]
     },
     "execution_count": 1,
     "metadata": {},
     "output_type": "execute_result"
    }
   ],
   "source": [
    "# Importación de las funciones necesarias\n",
    "# Cuando se trabaja de manera interactiva es común usar:\n",
    "#\n",
    "# from sympy import *\n",
    "#\n",
    "# para no tener que preocuparse de que funciones están disponibles.\n",
    "from sympy import inverse_laplace_transform, symbols\n",
    "\n",
    "# Definición de los símbolos necesarios\n",
    "R, A, t = symbols(\"R A t\", real=True)\n",
    "s = symbols(\"s\")\n",
    "\n",
    "# Definición de la función de transferencia, G(s)\n",
    "G = R/(R*A*s+1)\n",
    "\n",
    "# Definición de la función de entrada, f(s), en este caso un escalón unidad\n",
    "f = 1/s\n",
    "\n",
    "# Cálculo de la respuesta, H(t)\n",
    "inverse_laplace_transform(G*f, s, t)"
   ]
  },
  {
   "cell_type": "markdown",
   "id": "existing-favorite",
   "metadata": {},
   "source": [
    "Cuanto mayor es $\\tau$ más lenta es la respuesta, más tarda el sistema en alcanzar el estado estacionario. Se comprueba\n",
    "que cuanto menor es la sección del tanque más rápida es la respuesta. Si\n",
    "$\\tau$ es grande se dice que el sistema presenta una gran inercia."
   ]
  },
  {
   "cell_type": "code",
   "execution_count": 2,
   "id": "alternative-formula",
   "metadata": {
    "tags": [
     "hide-input"
    ]
   },
   "outputs": [
    {
     "data": {
      "application/vnd.jupyter.widget-view+json": {
       "model_id": "bcab9579a9d2431eaa80450615205a44",
       "version_major": 2,
       "version_minor": 0
      },
      "text/plain": [
       "FloatSlider(value=1.5, continuous_update=False, description='$\\\\tau$', max=12.0, min=0.1)"
      ]
     },
     "metadata": {},
     "output_type": "display_data"
    },
    {
     "data": {
      "application/vnd.jupyter.widget-view+json": {
       "model_id": "5de4557e80d34b95b6aa78da7d3eaaf1",
       "version_major": 2,
       "version_minor": 0
      },
      "text/plain": [
       "Output()"
      ]
     },
     "metadata": {},
     "output_type": "display_data"
    }
   ],
   "source": [
    "from ipywidgets import FloatSlider, interactive_output\n",
    "\n",
    "from sympy import plot, inverse_laplace_transform, symbols\n",
    "\n",
    "\n",
    "tau, t = symbols('tau, t', real=True)\n",
    "s = symbols('s')\n",
    "\n",
    "T = FloatSlider(value=1.5, min=0.1, max=12, step=.1, continuous_update=False, description=r'$\\tau$')\n",
    "\n",
    "y = 1/(tau*s+1)*1/s\n",
    "yt = inverse_laplace_transform(y, s, t)\n",
    "\n",
    "def f(T):\n",
    "    taus = [0.5, 1, 2, 4, 8, T]\n",
    "    p = plot(yt.subs(tau, 0.5),\n",
    "             yt.subs(tau, 1),\n",
    "             yt.subs(tau, 2),\n",
    "             yt.subs(tau, 4),\n",
    "             yt.subs(tau, 8),\n",
    "             yt.subs(tau, T),\n",
    "             (t, -1, 10), legend=True, size= [8, 4], show=False)\n",
    "    for i in range(len(taus)):\n",
    "        p[i].label = str(taus[i])\n",
    "    p[0].line_color = \"yellow\"\n",
    "    p[1].line_color = \"lime\"\n",
    "    p[2].line_color = \"cyan\"\n",
    "    p[3].line_color = \"green\"\n",
    "    p[4].line_color = \"brown\"\n",
    "    p[5].line_color= 'red'\n",
    "    p.show()\n",
    "\n",
    "display(T)\n",
    "interactive_output(f, {'T':T})"
   ]
  },
  {
   "cell_type": "markdown",
   "id": "answering-denmark",
   "metadata": {},
   "source": [
    "```{admonition} Ejemplo\n",
    "La técnica propuesta en este capítulo para obtener modelos matemáticos\n",
    "se puede utilizar para modelos de mayor complejidad, como el que se\n",
    "obtiene en la resolución del problema 3.7.\n",
    "```"
   ]
  }
 ],
 "metadata": {
  "jupytext": {
   "cell_metadata_filter": "-all",
   "formats": "md:myst,ipynb",
   "text_representation": {
    "extension": ".md",
    "format_name": "myst",
    "format_version": 0.12,
    "jupytext_version": "1.8.2"
   }
  },
  "kernelspec": {
   "display_name": "Python 3",
   "language": "python",
   "name": "python3"
  },
  "language_info": {
   "codemirror_mode": {
    "name": "ipython",
    "version": 3
   },
   "file_extension": ".py",
   "mimetype": "text/x-python",
   "name": "python",
   "nbconvert_exporter": "python",
   "pygments_lexer": "ipython3",
   "version": "3.8.5"
  },
  "source_map": [
   14,
   46,
   67,
   73,
   110
  ],
  "widgets": {
   "application/vnd.jupyter.widget-state+json": {
    "state": {
     "10e8ad9b55c54bac9da1a2b7dfc8cc91": {
      "model_module": "@jupyter-widgets/base",
      "model_module_version": "1.2.0",
      "model_name": "LayoutModel",
      "state": {
       "_model_module": "@jupyter-widgets/base",
       "_model_module_version": "1.2.0",
       "_model_name": "LayoutModel",
       "_view_count": null,
       "_view_module": "@jupyter-widgets/base",
       "_view_module_version": "1.2.0",
       "_view_name": "LayoutView",
       "align_content": null,
       "align_items": null,
       "align_self": null,
       "border": null,
       "bottom": null,
       "display": null,
       "flex": null,
       "flex_flow": null,
       "grid_area": null,
       "grid_auto_columns": null,
       "grid_auto_flow": null,
       "grid_auto_rows": null,
       "grid_column": null,
       "grid_gap": null,
       "grid_row": null,
       "grid_template_areas": null,
       "grid_template_columns": null,
       "grid_template_rows": null,
       "height": null,
       "justify_content": null,
       "justify_items": null,
       "left": null,
       "margin": null,
       "max_height": null,
       "max_width": null,
       "min_height": null,
       "min_width": null,
       "object_fit": null,
       "object_position": null,
       "order": null,
       "overflow": null,
       "overflow_x": null,
       "overflow_y": null,
       "padding": null,
       "right": null,
       "top": null,
       "visibility": null,
       "width": null
      }
     },
     "3745225e37b34a8ea07c1c824b2eae08": {
      "model_module": "@jupyter-widgets/base",
      "model_module_version": "1.2.0",
      "model_name": "LayoutModel",
      "state": {
       "_model_module": "@jupyter-widgets/base",
       "_model_module_version": "1.2.0",
       "_model_name": "LayoutModel",
       "_view_count": null,
       "_view_module": "@jupyter-widgets/base",
       "_view_module_version": "1.2.0",
       "_view_name": "LayoutView",
       "align_content": null,
       "align_items": null,
       "align_self": null,
       "border": null,
       "bottom": null,
       "display": null,
       "flex": null,
       "flex_flow": null,
       "grid_area": null,
       "grid_auto_columns": null,
       "grid_auto_flow": null,
       "grid_auto_rows": null,
       "grid_column": null,
       "grid_gap": null,
       "grid_row": null,
       "grid_template_areas": null,
       "grid_template_columns": null,
       "grid_template_rows": null,
       "height": null,
       "justify_content": null,
       "justify_items": null,
       "left": null,
       "margin": null,
       "max_height": null,
       "max_width": null,
       "min_height": null,
       "min_width": null,
       "object_fit": null,
       "object_position": null,
       "order": null,
       "overflow": null,
       "overflow_x": null,
       "overflow_y": null,
       "padding": null,
       "right": null,
       "top": null,
       "visibility": null,
       "width": null
      }
     },
     "5de4557e80d34b95b6aa78da7d3eaaf1": {
      "model_module": "@jupyter-widgets/output",
      "model_module_version": "1.0.0",
      "model_name": "OutputModel",
      "state": {
       "_dom_classes": [],
       "_model_module": "@jupyter-widgets/output",
       "_model_module_version": "1.0.0",
       "_model_name": "OutputModel",
       "_view_count": null,
       "_view_module": "@jupyter-widgets/output",
       "_view_module_version": "1.0.0",
       "_view_name": "OutputView",
       "layout": "IPY_MODEL_3745225e37b34a8ea07c1c824b2eae08",
       "msg_id": "",
       "outputs": [
        {
         "data": {
          "image/png": "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\n",
          "text/plain": "<Figure size 576x288 with 1 Axes>"
         },
         "metadata": {
          "needs_background": "light"
         },
         "output_type": "display_data"
        }
       ]
      }
     },
     "794fa7fc189a4adf9870cf287050b70c": {
      "model_module": "@jupyter-widgets/controls",
      "model_module_version": "1.5.0",
      "model_name": "SliderStyleModel",
      "state": {
       "_model_module": "@jupyter-widgets/controls",
       "_model_module_version": "1.5.0",
       "_model_name": "SliderStyleModel",
       "_view_count": null,
       "_view_module": "@jupyter-widgets/base",
       "_view_module_version": "1.2.0",
       "_view_name": "StyleView",
       "description_width": "",
       "handle_color": null
      }
     },
     "bcab9579a9d2431eaa80450615205a44": {
      "model_module": "@jupyter-widgets/controls",
      "model_module_version": "1.5.0",
      "model_name": "FloatSliderModel",
      "state": {
       "_dom_classes": [],
       "_model_module": "@jupyter-widgets/controls",
       "_model_module_version": "1.5.0",
       "_model_name": "FloatSliderModel",
       "_view_count": null,
       "_view_module": "@jupyter-widgets/controls",
       "_view_module_version": "1.5.0",
       "_view_name": "FloatSliderView",
       "continuous_update": false,
       "description": "$\\tau$",
       "description_tooltip": null,
       "disabled": false,
       "layout": "IPY_MODEL_10e8ad9b55c54bac9da1a2b7dfc8cc91",
       "max": 12.0,
       "min": 0.1,
       "orientation": "horizontal",
       "readout": true,
       "readout_format": ".2f",
       "step": 0.1,
       "style": "IPY_MODEL_794fa7fc189a4adf9870cf287050b70c",
       "value": 1.5
      }
     }
    },
    "version_major": 2,
    "version_minor": 0
   }
  }
 },
 "nbformat": 4,
 "nbformat_minor": 5
}