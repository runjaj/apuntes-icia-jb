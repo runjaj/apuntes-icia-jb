{
 "cells": [
  {
   "cell_type": "markdown",
   "id": "sitting-unknown",
   "metadata": {},
   "source": [
    "# Problema 3.5\n",
    "\n",
    "Resolver las siguientes ecuaciones diferenciales:\n",
    "\n",
    "1.  $\\frac{\\mathrm{d}^2 y}{\\mathrm{d}t^2} + 4 y = 3$ con\n",
    "    $y (0) = y' (0) = 1$\n",
    "\n",
    "2.  $\\frac{\\mathrm{d}y}{\\mathrm{d}t} + 2 y = 5 \\sin (3 t)$\n",
    "    con $y (0) =\n",
    "        1$\n",
    "\n",
    "----\n",
    "\n",
    "**Solución**\n",
    "\n",
    "a\\) Para resolver la ecuación diferencial, en primer lugar se realizará\n",
    "la transformada de Laplace: \n",
    "\n",
    "$$\\begin{aligned}\n",
    "  & \\mathcal{L} \\left[ \\frac{\\mathrm{d}^2 y}{\\mathrm{d}t^2} + 4 y \\right]\n",
    "  =\\mathcal{L} [3] & \\\\\n",
    "  & s^2  \\bar{y} - s - 1 + 4 \\bar{y} = \\frac{3}{s} & \\end{aligned}$$ \n",
    "  \n",
    "  A\n",
    "continuación se despeja $\\bar{y}$:\n",
    "\n",
    "\n",
    "$$\\bar{y} = \\frac{s}{s^2 + 4} + \\frac{1}{s^2 + 4} + \\frac{3}{s (s^2 + 4)}$$\n",
    "\n",
    "\n",
    "Para obtener la respuesta en tiempo real hay que realizar la\n",
    "transformada inversa. La trasnformada inversa de los dos primeros\n",
    "sumandos es directa a partir de la tabla de transformadas de Laplace. La\n",
    "transformada inversa del tercer de los sumandos no es directa, por lo\n",
    "que es necesario descomponerlo en fracciones simples:\n",
    "\n",
    "\n",
    "$$\\frac{3}{s (s^2 + 4)} = \\frac{As}{s^2 + 4} + \\frac{B}{s} = \\frac{3}{4}\n",
    "   \\left( \\frac{1}{s} - \\frac{s}{s^2 + 4} \\right)$$ \n",
    "   \n",
    "   donde:\n",
    "   \n",
    "   \n",
    "$$\\begin{aligned}\n",
    "  & 3 = As^2 + B (s^2 + 4) & \\\\\n",
    "  & \\left\\{\\begin{array}{l}\n",
    "    0 = A + B\\\\\n",
    "    3 = 4 B\n",
    "  \\end{array}\\right. & \\end{aligned}$$\n",
    "  \n",
    "  La realización de las\n",
    "transformadas de Laplace es ahora directa. La solución a la ecuación\n",
    "diferencial es:\n",
    "\n",
    "\n",
    "$$y (t) = \\cos (2 t) + \\frac{1}{2} \\sin (2 t) + \\frac{3}{4}  (1 - \\cos\n",
    "   (2 t))$$ \n",
    "   \n",
    "   También se puede resolver la ecuación utilizando *Sympy*. A\n",
    "continuación se muestra la serie de instrucciones necesarias para\n",
    "introducir las condiciones iniciales y la ecuación:"
   ]
  },
  {
   "cell_type": "code",
   "execution_count": 1,
   "id": "distant-posting",
   "metadata": {},
   "outputs": [
    {
     "data": {
      "text/latex": [
       "$\\begin{equation*}y{\\left(t \\right)} = \\frac{\\sin{\\left(2 t \\right)}}{2} + \\frac{\\cos{\\left(2 t \\right)}}{4} + \\frac{3}{4}\\end{equation*}$\n"
      ],
      "text/plain": [
       "       sin(2⋅t)   cos(2⋅t)   3\n",
       "y(t) = ──────── + ──────── + ─\n",
       "          2          4       4"
      ]
     },
     "execution_count": 1,
     "metadata": {},
     "output_type": "execute_result"
    }
   ],
   "source": [
    "using SymPy\n",
    "\n",
    "s = symbols(\"s\")\n",
    "t = symbols(\"t\", real=True)\n",
    "\n",
    "y = SymFunction(\"y\")\n",
    "\n",
    "# Condiciones iniciales\n",
    "ic = ((y', 0, 1), (y, 0, 1))\n",
    "\n",
    "# Ecuación diferencial\n",
    "deq = Eq(y''(t) + 4*y(t), 3)\n",
    "\n",
    "# Resolución de la ecuación diferencial\n",
    "dsolve(deq, y(t), ics=ic)"
   ]
  },
  {
   "cell_type": "markdown",
   "id": "indian-gardening",
   "metadata": {},
   "source": [
    "b\\) La resolución de la ecuación se puede realizar aplicando la\n",
    "transformada de Laplace o directamente utilizando *Sympy*:"
   ]
  },
  {
   "cell_type": "code",
   "execution_count": 2,
   "id": "innovative-bradley",
   "metadata": {},
   "outputs": [
    {
     "data": {
      "text/plain": [
       "(y, 0, 1)"
      ]
     },
     "execution_count": 2,
     "metadata": {},
     "output_type": "execute_result"
    }
   ],
   "source": [
    "# Condiciones iniciales\n",
    "ic2 = (y, 0, 1)\n",
    "ic2"
   ]
  },
  {
   "cell_type": "code",
   "execution_count": 3,
   "id": "armed-frame",
   "metadata": {},
   "outputs": [
    {
     "data": {
      "text/latex": [
       "$\\begin{equation*}2 y{\\left(t \\right)} + \\frac{d}{d t} y{\\left(t \\right)} = 5 \\sin{\\left(3 t \\right)}\\end{equation*}$\n"
      ],
      "text/plain": [
       "         d                    \n",
       "2⋅y(t) + ──(y(t)) = 5⋅sin(3⋅t)\n",
       "         dt                   "
      ]
     },
     "execution_count": 3,
     "metadata": {},
     "output_type": "execute_result"
    }
   ],
   "source": [
    "# Ecuación diferencial\n",
    "deq2 = Eq(y'(t) + 2*y(t), 5*sin(3*t))\n",
    "deq2"
   ]
  },
  {
   "cell_type": "code",
   "execution_count": 4,
   "id": "decimal-construction",
   "metadata": {},
   "outputs": [
    {
     "data": {
      "text/latex": [
       "$\\begin{equation*}y{\\left(t \\right)} = \\left(\\frac{10 e^{2 t} \\sin{\\left(3 t \\right)}}{13} - \\frac{15 e^{2 t} \\cos{\\left(3 t \\right)}}{13} + \\frac{28}{13}\\right) e^{- 2 t}\\end{equation*}$\n"
      ],
      "text/plain": [
       "       ⎛    2⋅t                2⋅t              ⎞      \n",
       "       ⎜10⋅ℯ   ⋅sin(3⋅t)   15⋅ℯ   ⋅cos(3⋅t)   28⎟  -2⋅t\n",
       "y(t) = ⎜──────────────── - ──────────────── + ──⎟⋅ℯ    \n",
       "       ⎝       13                 13          13⎠      "
      ]
     },
     "execution_count": 4,
     "metadata": {},
     "output_type": "execute_result"
    }
   ],
   "source": [
    "dsolve(deq2, y(t), ics=ic2)"
   ]
  },
  {
   "cell_type": "code",
   "execution_count": null,
   "id": "9d4bf5fc",
   "metadata": {},
   "outputs": [],
   "source": []
  }
 ],
 "metadata": {
  "@webio": {
   "lastCommId": null,
   "lastKernelId": null
  },
  "kernelspec": {
   "display_name": "Julia 1.6.0",
   "language": "julia",
   "name": "julia-1.6"
  },
  "language_info": {
   "file_extension": ".jl",
   "mimetype": "application/julia",
   "name": "julia",
   "version": "1.6.0"
  }
 },
 "nbformat": 4,
 "nbformat_minor": 5
}
