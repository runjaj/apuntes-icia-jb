{
 "cells": [
  {
   "cell_type": "raw",
   "id": "ccba72b2",
   "metadata": {},
   "source": [
    "using Plots, SymPy\n",
    "\n",
    "@syms t, s\n",
    "\n",
    "# Definimos las funciones de transferencia\n",
    "Gc = 5\n",
    "Gf= 1\n",
    "Gp = 2/((s+1)*(3s+1))\n",
    "Gm = 1\n",
    "\n",
    "# Función de transferencia del lazo de control\n",
    "G = Gc*Gf*Gp/(1+Gc*Gf*Gp*Gm)\n",
    "\n",
    "# Cambio en la consigna\n",
    "ysp = 2/s\n",
    "\n",
    "# Cálculo de y(s)\n",
    "y_s = G*ysp\n",
    "\n",
    "# Cálculo de y(t)\n",
    "y = sympy.inverse_laplace_transform(y_s, s, t)\n",
    "\n",
    "# Valores obtenidos en el problema\n",
    "tau = \n",
    "zeta = \n",
    "\n",
    "overshoot = N(exp(-pi*zeta/sqrt(1-zeta^2)))\n",
    "\n",
    "# Valor de y(t) cuando t tiende a infinito\n",
    "B = limit(s*y_s, s, 0)\n",
    "\n",
    "# Valor máximo de y(t)\n",
    "Cmax = B*(overshoot+1)\n",
    "\n",
    "plot(y, -1, 10, xlabel=\"t\", ylabel=\"y(t)\", legend=false, lw=2)\n",
    "plot!(B*Heaviside(t), lw=2)\n",
    "plot!([1.7, 1.7], [B, Cmax])"
   ]
  }
 ],
 "metadata": {
  "kernelspec": {
   "display_name": "Julia 1.6.0",
   "language": "julia",
   "name": "julia-1.6"
  },
  "language_info": {
   "file_extension": ".jl",
   "mimetype": "application/julia",
   "name": "julia",
   "version": "1.6.1"
  }
 },
 "nbformat": 4,
 "nbformat_minor": 5
}
