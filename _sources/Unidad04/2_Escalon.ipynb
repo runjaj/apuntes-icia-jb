{
 "cells": [
  {
   "cell_type": "markdown",
   "id": "77dcb653",
   "metadata": {},
   "source": [
    "# Respuesta a una entrada en escalón"
   ]
  },
  {
   "cell_type": "markdown",
   "id": "d9238b6b",
   "metadata": {},
   "source": [
    "Para un escalón de altura $A$ y un sistema de primer orden la salida\n",
    "$y(s)$ es: \n",
    "\n",
    "$$y (s) = \\frac{A}{s}  \\frac{K_p}{\\tau_p s + 1}$$\n",
    "\n",
    "En tiempo real, invirtiendo las transformadas de Laplace, se obtiene:\n",
    "\n",
    "$$\\label{ec:primer orden real} y (t) = A K_p  \\left( 1 - \\mathrm{e}^{-\n",
    "  \\frac{t}{\\tau_p}} \\right)$$"
   ]
  },
  {
   "cell_type": "code",
   "execution_count": 1,
   "id": "2a7c560e",
   "metadata": {},
   "outputs": [
    {
     "name": "stdout",
     "output_type": "stream",
     "text": [
      "Función de transferencia del proceso, G(s) = \n"
     ]
    },
    {
     "data": {
      "image/png": "[encoded data removed]",
      "text/latex": [
       "$\\displaystyle \\frac{K_{p}}{s \\tau_{p} + 1}$"
      ],
      "text/plain": [
       "   Kₚ   \n",
       "────────\n",
       "s⋅τₚ + 1"
      ]
     },
     "metadata": {
      "filenames": {
       "image/png": "/Users/javier/Documents/Trabajo/apuntes-icia-jb/_build/jupyter_execute/Unidad04/2_Escalon_2_1.png"
      }
     },
     "output_type": "display_data"
    },
    {
     "name": "stdout",
     "output_type": "stream",
     "text": [
      "Función de entrada, f(s) = \n"
     ]
    },
    {
     "data": {
      "image/png": "[encoded data removed]",
      "text/latex": [
       "$\\displaystyle \\frac{A}{s}$"
      ],
      "text/plain": [
       "A\n",
       "─\n",
       "s"
      ]
     },
     "metadata": {
      "filenames": {
       "image/png": "/Users/javier/Documents/Trabajo/apuntes-icia-jb/_build/jupyter_execute/Unidad04/2_Escalon_2_3.png"
      }
     },
     "output_type": "display_data"
    },
    {
     "name": "stdout",
     "output_type": "stream",
     "text": [
      "Respuesta del proceso, y(s) = \n"
     ]
    },
    {
     "data": {
      "image/png": "[encoded data removed]",
      "text/latex": [
       "$\\displaystyle \\frac{A K_{p}}{s \\left(s \\tau_{p} + 1\\right)}$"
      ],
      "text/plain": [
       "    A⋅Kₚ    \n",
       "────────────\n",
       "s⋅(s⋅τₚ + 1)"
      ]
     },
     "metadata": {
      "filenames": {
       "image/png": "/Users/javier/Documents/Trabajo/apuntes-icia-jb/_build/jupyter_execute/Unidad04/2_Escalon_2_5.png"
      }
     },
     "output_type": "display_data"
    },
    {
     "name": "stdout",
     "output_type": "stream",
     "text": [
      "Respuesta del proceso, y(t) =\n"
     ]
    },
    {
     "data": {
      "image/png": "[encoded data removed]",
      "text/latex": [
       "$\\displaystyle A K_{p} \\left(e^{\\frac{t}{\\tau_{p}}} - 1\\right) e^{- \\frac{t}{\\tau_{p}}} \\theta\\left(t\\right)$"
      ],
      "text/plain": [
       "     ⎛ t     ⎞  -t      \n",
       "     ⎜ ──    ⎟  ───     \n",
       "     ⎜ τₚ    ⎟   τₚ     \n",
       "A⋅Kₚ⋅⎝ℯ   - 1⎠⋅ℯ   ⋅θ(t)"
      ]
     },
     "metadata": {
      "filenames": {
       "image/png": "/Users/javier/Documents/Trabajo/apuntes-icia-jb/_build/jupyter_execute/Unidad04/2_Escalon_2_7.png"
      }
     },
     "output_type": "display_data"
    }
   ],
   "source": [
    "from sympy import *\n",
    "init_printing()\n",
    "\n",
    "# Definimos las variables de nuestro sistema\n",
    "t, A, Kp = symbols(\"t A K_p\", real=True)\n",
    "# Especificamos que la constante de tiempo es siempre positiva\n",
    "Tp = symbols('tau_p', positive=True)\n",
    "s = symbols('s')\n",
    "\n",
    "G = Kp/(Tp*s + 1)\n",
    "print(\"Función de transferencia del proceso, G(s) = \")\n",
    "display(G)\n",
    "\n",
    "f = A/s\n",
    "print(\"Función de entrada, f(s) = \")\n",
    "display(f)\n",
    "\n",
    "y_s = G*f\n",
    "print(\"Respuesta del proceso, y(s) = \")\n",
    "display(y_s)\n",
    "\n",
    "y = inverse_laplace_transform(G*f, s, t)\n",
    "print(\"Respuesta del proceso, y(t) =\")\n",
    "display(y)"
   ]
  },
  {
   "cell_type": "markdown",
   "id": "92bcbadc",
   "metadata": {},
   "source": [
    "Representando la función en coordenadas adimensionales, $\\frac{y (t)}{A K_p}$ frente $\\frac{t}{\\tau_p}$, se obtiene la típica salida de un sistema de primer orden:"
   ]
  },
  {
   "cell_type": "code",
   "execution_count": 2,
   "id": "5e708dd5",
   "metadata": {},
   "outputs": [
    {
     "data": {
      "image/png": "[encoded data removed]",
      "text/plain": [
       "<Figure size 432x288 with 1 Axes>"
      ]
     },
     "metadata": {
      "filenames": {
       "image/png": "/Users/javier/Documents/Trabajo/apuntes-icia-jb/_build/jupyter_execute/Unidad04/2_Escalon_4_0.png"
      },
      "needs_background": "light"
     },
     "output_type": "display_data"
    }
   ],
   "source": [
    "yplot = y.subs(A, 1).subs(Kp,1).subs(Tp,1)\n",
    "\n",
    "plot(yplot, (t, 0, 5), \n",
    "     ylabel=r'$\\frac{y(t)}{A K_p}$', xlabel=r'$\\frac{t}{\\tau_p}$');"
   ]
  },
  {
   "cell_type": "markdown",
   "id": "0f50408d",
   "metadata": {},
   "source": [
    "## Propiedades de un sistema de primer orden\n",
    "\n",
    "Cabe destacar las siguientes características de cualquier sistema de\n",
    "primer orden:\n",
    "\n",
    "### Autorregulación:\n",
    "\n",
    "El proceso alcanza un nuevo estado estacionario sin necesidad de un sistema de control.\n",
    "\n",
    "Se puede comprobar de manera sencilla observando el gráfico anterior. Se puede comprobar que la respuesta a tiempos largos se encuentra acotada o que tiende a un valor concreto."
   ]
  },
  {
   "cell_type": "markdown",
   "id": "3bedc64f",
   "metadata": {},
   "source": [
    "### Velocidad de la respuesta\n",
    "\n",
    "Para calcular la velocidad de la respuesta hay que encontrar la pendiente de la respuesta:\n",
    "\n",
    "$$\\frac{\\mathrm{d}\\left[ \\frac{y (t)}{A K_p} \\right]}{\\mathrm{d}t} = \\frac{1}{\\tau_p} e^{- \\frac{t}{\\tau_p}}$$ \n",
    "         \n",
    "Para $t=0$:\n",
    "        \n",
    "$$\\frac{\\mathrm{d}\\left[ \\frac{y (t)}{A K_p} \\right]}{\\mathrm{d}t} = \\frac{1}{\\tau_p}$$ \n",
    "         \n",
    "Cuanto mayor sea $\\tau_p$, menor será la pendiente inicial de la respuesta del sistema y mayor será el tiempo necesario en alcanzar el nuevo estado estacionario.\n",
    "    \n",
    "\n",
    "Evaluando al ecuación [\\[ec:primer orden real\\]](#ec:primer orden real){reference-type=\"ref\"    reference=\"ec:primer orden real\"} para diferentes tiempo se obtiene la siguiente tabla:\n",
    "    \n",
    "```{table} Evolución de la salida de un sistema de primer orden con el tiempo.\n",
    "    \n",
    "| Tiempo transcurrido | $1 \\tau_p$ | $2 \\tau_p$ | $3 \\tau_p$  | $4 \\tau_p$ |\n",
    "|---------------------|------------|------------|-------------|------------|\n",
    "| $y(t)$ como porcentaje de su valor estacionario | 63.2 | 86.5 | 95.0 | 98.2 |\n",
    "```\n",
    "    \n",
    "El cálculo de estos valores es muy sencillo:"
   ]
  },
  {
   "cell_type": "code",
   "execution_count": 3,
   "id": "bd864029",
   "metadata": {},
   "outputs": [
    {
     "name": "stdout",
     "output_type": "stream",
     "text": [
      " 0.0\n",
      "63.2\n",
      "86.5\n",
      "95.0\n",
      "98.2\n"
     ]
    }
   ],
   "source": [
    "# Calculamos los valores de y(t) para 0, 1, 2, 3 y 4\n",
    "for tt in range(5):\n",
    "    # Mostramos los valores expresados como %\n",
    "    print('%4.1f' % (N(yplot.subs(t, tt))*100))"
   ]
  },
  {
   "cell_type": "markdown",
   "id": "2b17d1eb",
   "metadata": {},
   "source": [
    "Transcurrido cuatro veces la constante de tiempo del proceso se puede asegurar que ha llegado el sistema al nuevo estado estacionario.\n",
    "\n",
    "### Nuevo estado estacionario\n",
    "\n",
    "La salida del proceso en el nuevo estado estacionario es:\n",
    "\n",
    "$$\\lim_{t \\to \\infty} y (t) = A K_p$$\n",
    "\n",
    "Podemos comprobar"
   ]
  },
  {
   "cell_type": "code",
   "execution_count": 4,
   "id": "a8959717",
   "metadata": {},
   "outputs": [
    {
     "data": {
      "image/png": "[encoded data removed]",
      "text/latex": [
       "$\\displaystyle A K_{p}$"
      ],
      "text/plain": [
       "A⋅Kₚ"
      ]
     },
     "execution_count": 4,
     "metadata": {
      "filenames": {
       "image/png": "/Users/javier/Documents/Trabajo/apuntes-icia-jb/_build/jupyter_execute/Unidad04/2_Escalon_9_0.png"
      }
     },
     "output_type": "execute_result"
    }
   ],
   "source": [
    "limit(y, t, oo)"
   ]
  },
  {
   "cell_type": "markdown",
   "id": "0653af67",
   "metadata": {},
   "source": [
    "Cuanto mayor es la ganancia menor debe ser la entrada del sistema (perturbación) para producir el mismo efecto final.\n",
    "\n",
    "Puede ocurrir que la constante $a_0$ de la ecuación\n",
    "[\\[ec:ode1\\]](#ec:ode1){reference-type=\"ref\" reference=\"ec:ode1\"} sea\n",
    "nula. Este tipo de procesos se conocen como *integradores puros* ya que\n",
    "la salida es la integral de la entrada con el tiempo. Estos procesos\n",
    "pueden ser difíciles de controlar debido a que no presentan\n",
    "autorregulación. Ejemplos comunes de este tipo de sistemas son los\n",
    "tanques con líquidos, depósitos de gases y sistemas de almacenamiento de\n",
    "materias primas y productos."
   ]
  }
 ],
 "metadata": {
  "jupytext": {
   "formats": "ipynb,md:myst",
   "text_representation": {
    "extension": ".md",
    "format_name": "myst",
    "format_version": 0.12,
    "jupytext_version": "1.8.2"
   }
  },
  "kernelspec": {
   "display_name": "Python 3",
   "language": "python",
   "name": "python3"
  },
  "language_info": {
   "codemirror_mode": {
    "name": "ipython",
    "version": 3
   },
   "file_extension": ".py",
   "mimetype": "text/x-python",
   "name": "python",
   "nbconvert_exporter": "python",
   "pygments_lexer": "ipython3",
   "version": "3.8.8"
  },
  "source_map": [
   13,
   17,
   30,
   55,
   59,
   64,
   77,
   103,
   108,
   120,
   122
  ]
 },
 "nbformat": 4,
 "nbformat_minor": 5
}